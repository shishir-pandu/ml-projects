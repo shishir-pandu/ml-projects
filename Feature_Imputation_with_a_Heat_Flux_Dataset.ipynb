{
  "nbformat": 4,
  "nbformat_minor": 0,
  "metadata": {
    "colab": {
      "provenance": [],
      "mount_file_id": "18uApALeuChn3iGnZPw8EMvn2i71LQaYR",
      "authorship_tag": "ABX9TyOeClkQo1rJVaIpOugT0qmt",
      "include_colab_link": true
    },
    "kernelspec": {
      "name": "python3",
      "display_name": "Python 3"
    },
    "language_info": {
      "name": "python"
    }
  },
  "cells": [
    {
      "cell_type": "markdown",
      "metadata": {
        "id": "view-in-github",
        "colab_type": "text"
      },
      "source": [
        "<a href=\"https://colab.research.google.com/github/shishir-py/ml-projects/blob/main/Feature_Imputation_with_a_Heat_Flux_Dataset.ipynb\" target=\"_parent\"><img src=\"https://colab.research.google.com/assets/colab-badge.svg\" alt=\"Open In Colab\"/></a>"
      ]
    },
    {
      "cell_type": "code",
      "execution_count": null,
      "metadata": {
        "id": "bBNXUz3KiLqu"
      },
      "outputs": [],
      "source": [
        "import pandas as pd\n",
        "import numpy as np\n",
        "import seaborn as sns\n",
        "import matplotlib.pyplot as plt\n",
        "import warnings\n",
        "warnings.filterwarnings('ignore')"
      ]
    },
    {
      "cell_type": "markdown",
      "source": [
        "# Loding Data"
      ],
      "metadata": {
        "id": "Z-060h0utKDW"
      }
    },
    {
      "cell_type": "code",
      "source": [
        "data_path=\"/content/drive/MyDrive/Proj/kaggle competation/data.csv\"\n",
        "sub_path=\"/content/drive/MyDrive/Proj/kaggle competation/sample_submission.csv\""
      ],
      "metadata": {
        "id": "ZU1PLqeHtIh-"
      },
      "execution_count": null,
      "outputs": []
    },
    {
      "cell_type": "code",
      "source": [
        "df=pd.read_csv(data_path)"
      ],
      "metadata": {
        "id": "DoEM9K4OtZj1"
      },
      "execution_count": null,
      "outputs": []
    },
    {
      "cell_type": "code",
      "source": [
        "df.head()"
      ],
      "metadata": {
        "colab": {
          "base_uri": "https://localhost:8080/",
          "height": 206
        },
        "id": "k5EnkfomtirW",
        "outputId": "527a9e83-157d-4e91-fd99-99e19416b998"
      },
      "execution_count": null,
      "outputs": [
        {
          "output_type": "execute_result",
          "data": {
            "text/plain": [
              "   id    author geometry  pressure [MPa]  mass_flux [kg/m2-s]  x_e_out [-]  \\\n",
              "0   0  Thompson     tube            7.00               3770.0       0.1754   \n",
              "1   1  Thompson     tube             NaN               6049.0      -0.0416   \n",
              "2   2  Thompson      NaN           13.79               2034.0       0.0335   \n",
              "3   3      Beus  annulus           13.79               3679.0      -0.0279   \n",
              "4   4       NaN     tube           13.79                686.0          NaN   \n",
              "\n",
              "   D_e [mm]  D_h [mm]  length [mm]  chf_exp [MW/m2]  \n",
              "0       NaN      10.8        432.0              3.6  \n",
              "1      10.3      10.3        762.0              6.2  \n",
              "2       7.7       7.7        457.0              2.5  \n",
              "3       5.6      15.2       2134.0              3.0  \n",
              "4      11.1      11.1        457.0              2.8  "
            ],
            "text/html": [
              "\n",
              "  <div id=\"df-075f7e5c-bfcf-4dc7-b0f4-3db97ac9ec51\">\n",
              "    <div class=\"colab-df-container\">\n",
              "      <div>\n",
              "<style scoped>\n",
              "    .dataframe tbody tr th:only-of-type {\n",
              "        vertical-align: middle;\n",
              "    }\n",
              "\n",
              "    .dataframe tbody tr th {\n",
              "        vertical-align: top;\n",
              "    }\n",
              "\n",
              "    .dataframe thead th {\n",
              "        text-align: right;\n",
              "    }\n",
              "</style>\n",
              "<table border=\"1\" class=\"dataframe\">\n",
              "  <thead>\n",
              "    <tr style=\"text-align: right;\">\n",
              "      <th></th>\n",
              "      <th>id</th>\n",
              "      <th>author</th>\n",
              "      <th>geometry</th>\n",
              "      <th>pressure [MPa]</th>\n",
              "      <th>mass_flux [kg/m2-s]</th>\n",
              "      <th>x_e_out [-]</th>\n",
              "      <th>D_e [mm]</th>\n",
              "      <th>D_h [mm]</th>\n",
              "      <th>length [mm]</th>\n",
              "      <th>chf_exp [MW/m2]</th>\n",
              "    </tr>\n",
              "  </thead>\n",
              "  <tbody>\n",
              "    <tr>\n",
              "      <th>0</th>\n",
              "      <td>0</td>\n",
              "      <td>Thompson</td>\n",
              "      <td>tube</td>\n",
              "      <td>7.00</td>\n",
              "      <td>3770.0</td>\n",
              "      <td>0.1754</td>\n",
              "      <td>NaN</td>\n",
              "      <td>10.8</td>\n",
              "      <td>432.0</td>\n",
              "      <td>3.6</td>\n",
              "    </tr>\n",
              "    <tr>\n",
              "      <th>1</th>\n",
              "      <td>1</td>\n",
              "      <td>Thompson</td>\n",
              "      <td>tube</td>\n",
              "      <td>NaN</td>\n",
              "      <td>6049.0</td>\n",
              "      <td>-0.0416</td>\n",
              "      <td>10.3</td>\n",
              "      <td>10.3</td>\n",
              "      <td>762.0</td>\n",
              "      <td>6.2</td>\n",
              "    </tr>\n",
              "    <tr>\n",
              "      <th>2</th>\n",
              "      <td>2</td>\n",
              "      <td>Thompson</td>\n",
              "      <td>NaN</td>\n",
              "      <td>13.79</td>\n",
              "      <td>2034.0</td>\n",
              "      <td>0.0335</td>\n",
              "      <td>7.7</td>\n",
              "      <td>7.7</td>\n",
              "      <td>457.0</td>\n",
              "      <td>2.5</td>\n",
              "    </tr>\n",
              "    <tr>\n",
              "      <th>3</th>\n",
              "      <td>3</td>\n",
              "      <td>Beus</td>\n",
              "      <td>annulus</td>\n",
              "      <td>13.79</td>\n",
              "      <td>3679.0</td>\n",
              "      <td>-0.0279</td>\n",
              "      <td>5.6</td>\n",
              "      <td>15.2</td>\n",
              "      <td>2134.0</td>\n",
              "      <td>3.0</td>\n",
              "    </tr>\n",
              "    <tr>\n",
              "      <th>4</th>\n",
              "      <td>4</td>\n",
              "      <td>NaN</td>\n",
              "      <td>tube</td>\n",
              "      <td>13.79</td>\n",
              "      <td>686.0</td>\n",
              "      <td>NaN</td>\n",
              "      <td>11.1</td>\n",
              "      <td>11.1</td>\n",
              "      <td>457.0</td>\n",
              "      <td>2.8</td>\n",
              "    </tr>\n",
              "  </tbody>\n",
              "</table>\n",
              "</div>\n",
              "      <button class=\"colab-df-convert\" onclick=\"convertToInteractive('df-075f7e5c-bfcf-4dc7-b0f4-3db97ac9ec51')\"\n",
              "              title=\"Convert this dataframe to an interactive table.\"\n",
              "              style=\"display:none;\">\n",
              "        \n",
              "  <svg xmlns=\"http://www.w3.org/2000/svg\" height=\"24px\"viewBox=\"0 0 24 24\"\n",
              "       width=\"24px\">\n",
              "    <path d=\"M0 0h24v24H0V0z\" fill=\"none\"/>\n",
              "    <path d=\"M18.56 5.44l.94 2.06.94-2.06 2.06-.94-2.06-.94-.94-2.06-.94 2.06-2.06.94zm-11 1L8.5 8.5l.94-2.06 2.06-.94-2.06-.94L8.5 2.5l-.94 2.06-2.06.94zm10 10l.94 2.06.94-2.06 2.06-.94-2.06-.94-.94-2.06-.94 2.06-2.06.94z\"/><path d=\"M17.41 7.96l-1.37-1.37c-.4-.4-.92-.59-1.43-.59-.52 0-1.04.2-1.43.59L10.3 9.45l-7.72 7.72c-.78.78-.78 2.05 0 2.83L4 21.41c.39.39.9.59 1.41.59.51 0 1.02-.2 1.41-.59l7.78-7.78 2.81-2.81c.8-.78.8-2.07 0-2.86zM5.41 20L4 18.59l7.72-7.72 1.47 1.35L5.41 20z\"/>\n",
              "  </svg>\n",
              "      </button>\n",
              "      \n",
              "  <style>\n",
              "    .colab-df-container {\n",
              "      display:flex;\n",
              "      flex-wrap:wrap;\n",
              "      gap: 12px;\n",
              "    }\n",
              "\n",
              "    .colab-df-convert {\n",
              "      background-color: #E8F0FE;\n",
              "      border: none;\n",
              "      border-radius: 50%;\n",
              "      cursor: pointer;\n",
              "      display: none;\n",
              "      fill: #1967D2;\n",
              "      height: 32px;\n",
              "      padding: 0 0 0 0;\n",
              "      width: 32px;\n",
              "    }\n",
              "\n",
              "    .colab-df-convert:hover {\n",
              "      background-color: #E2EBFA;\n",
              "      box-shadow: 0px 1px 2px rgba(60, 64, 67, 0.3), 0px 1px 3px 1px rgba(60, 64, 67, 0.15);\n",
              "      fill: #174EA6;\n",
              "    }\n",
              "\n",
              "    [theme=dark] .colab-df-convert {\n",
              "      background-color: #3B4455;\n",
              "      fill: #D2E3FC;\n",
              "    }\n",
              "\n",
              "    [theme=dark] .colab-df-convert:hover {\n",
              "      background-color: #434B5C;\n",
              "      box-shadow: 0px 1px 3px 1px rgba(0, 0, 0, 0.15);\n",
              "      filter: drop-shadow(0px 1px 2px rgba(0, 0, 0, 0.3));\n",
              "      fill: #FFFFFF;\n",
              "    }\n",
              "  </style>\n",
              "\n",
              "      <script>\n",
              "        const buttonEl =\n",
              "          document.querySelector('#df-075f7e5c-bfcf-4dc7-b0f4-3db97ac9ec51 button.colab-df-convert');\n",
              "        buttonEl.style.display =\n",
              "          google.colab.kernel.accessAllowed ? 'block' : 'none';\n",
              "\n",
              "        async function convertToInteractive(key) {\n",
              "          const element = document.querySelector('#df-075f7e5c-bfcf-4dc7-b0f4-3db97ac9ec51');\n",
              "          const dataTable =\n",
              "            await google.colab.kernel.invokeFunction('convertToInteractive',\n",
              "                                                     [key], {});\n",
              "          if (!dataTable) return;\n",
              "\n",
              "          const docLinkHtml = 'Like what you see? Visit the ' +\n",
              "            '<a target=\"_blank\" href=https://colab.research.google.com/notebooks/data_table.ipynb>data table notebook</a>'\n",
              "            + ' to learn more about interactive tables.';\n",
              "          element.innerHTML = '';\n",
              "          dataTable['output_type'] = 'display_data';\n",
              "          await google.colab.output.renderOutput(dataTable, element);\n",
              "          const docLink = document.createElement('div');\n",
              "          docLink.innerHTML = docLinkHtml;\n",
              "          element.appendChild(docLink);\n",
              "        }\n",
              "      </script>\n",
              "    </div>\n",
              "  </div>\n",
              "  "
            ]
          },
          "metadata": {},
          "execution_count": 149
        }
      ]
    },
    {
      "cell_type": "markdown",
      "source": [
        "# Data info\n",
        "## Here's a brief explanation of each column:\n",
        "\n",
        "  Index: This column represents a unique identifier for each observation in the table.\n",
        "\n",
        "  Id: This column may represent an additional identifier for each observation. It's not clear from the limited information provided what this column refers to specifically.\n",
        "\n",
        "  Author: This column may represent the name of the researcher or research team who conducted the experiment or collected the data.\n",
        "\n",
        "  Geometry: This column represents the type of geometry used in the experiment, such as a tube or annulus.\n",
        "\n",
        "  Pressure [MPa]: This column represents the pressure of the fluid in the experiment, measured in megapascals.\n",
        "\n",
        "  Mass_flux [kg/m2-s]: This column represents the mass flux of the fluid in the experiment, measured in kilograms per square meter per second.\n",
        "\n",
        "  X_e_out [-]: This column represents a variable related to the exit quality of the fluid in the experiment. It's not clear from the limited information provided what this variable specifically refers to.\n",
        "\n",
        "  D_e [mm]: This column represents the equivalent diameter of the experimental geometry, measured in millimeters.\n",
        "\n",
        "  D_h [mm]: This column represents the hydraulic diameter of the experimental geometry, measured in millimeters.\n",
        "\n",
        "  Length [mm]: This column represents the length of the experimental geometry, measured in millimeters.\n",
        "\n",
        "  Chf_exp [MW/m2]: This column represents the experimental critical heat flux, measured in megawatts per square meter."
      ],
      "metadata": {
        "id": "EEFd8pWeuhqe"
      }
    },
    {
      "cell_type": "markdown",
      "source": [
        "# Examine the dataset for any missing values and understand the distribution of the features in the dataset"
      ],
      "metadata": {
        "id": "ty0WeXoFvwlO"
      }
    },
    {
      "cell_type": "code",
      "source": [
        "df.shape"
      ],
      "metadata": {
        "colab": {
          "base_uri": "https://localhost:8080/"
        },
        "id": "DluplKg_wDGO",
        "outputId": "2e2377b6-ff4f-42cc-9aca-1f8813baac5c"
      },
      "execution_count": null,
      "outputs": [
        {
          "output_type": "execute_result",
          "data": {
            "text/plain": [
              "(31644, 10)"
            ]
          },
          "metadata": {},
          "execution_count": 150
        }
      ]
    },
    {
      "cell_type": "code",
      "source": [
        "# Calculate the correlation matrix\n",
        "corr_matrix = df.corr()\n",
        "\n",
        "# Visualize the correlation matrix as a heatmap\n",
        "plt.figure(figsize=(10, 8))\n",
        "sns.heatmap(corr_matrix, cmap='coolwarm', annot=True)\n",
        "plt.title('Correlation Matrix')\n",
        "plt.show()"
      ],
      "metadata": {
        "colab": {
          "base_uri": "https://localhost:8080/",
          "height": 825
        },
        "id": "rFzJXXCLwjYf",
        "outputId": "6531f307-ef7b-4071-ed43-c4731089cb59"
      },
      "execution_count": null,
      "outputs": [
        {
          "output_type": "display_data",
          "data": {
            "text/plain": [
              "<Figure size 1000x800 with 2 Axes>"
            ],
            "image/png": "[encoded data removed]"
          },
          "metadata": {}
        }
      ]
    },
    {
      "cell_type": "code",
      "source": [
        "# Examine the dataset for missing values\n",
        "print(df.isnull().sum())\n",
        "\n"
      ],
      "metadata": {
        "colab": {
          "base_uri": "https://localhost:8080/"
        },
        "id": "MlsgW3t9t83v",
        "outputId": "faff683f-aa86-480e-ebc5-3c2501534335"
      },
      "execution_count": null,
      "outputs": [
        {
          "output_type": "stream",
          "name": "stdout",
          "text": [
            "id                         0\n",
            "author                  5024\n",
            "geometry                5500\n",
            "pressure [MPa]          4452\n",
            "mass_flux [kg/m2-s]     4791\n",
            "x_e_out [-]            10415\n",
            "D_e [mm]                5488\n",
            "D_h [mm]                4589\n",
            "length [mm]             4759\n",
            "chf_exp [MW/m2]            0\n",
            "dtype: int64\n"
          ]
        }
      ]
    },
    {
      "cell_type": "code",
      "source": [
        "# Get the summary statistics of the dataset\n",
        "print(df.describe())\n",
        "\n",
        "# Get the frequency distribution of categorical variables\n",
        "print(df['author'].value_counts())\n"
      ],
      "metadata": {
        "colab": {
          "base_uri": "https://localhost:8080/"
        },
        "id": "nDKHK6MNv3_3",
        "outputId": "943df6f8-b223-4367-b4fa-362cd729b166"
      },
      "execution_count": null,
      "outputs": [
        {
          "output_type": "stream",
          "name": "stdout",
          "text": [
            "                 id  pressure [MPa]  mass_flux [kg/m2-s]   x_e_out [-]  \\\n",
            "count  31644.000000    27192.000000         26853.000000  21229.000000   \n",
            "mean   15821.500000       10.640747          3068.011023     -0.000453   \n",
            "std     9134.980296        4.333683          1777.032080      0.100911   \n",
            "min        0.000000        0.100000             0.000000     -0.866700   \n",
            "25%     7910.750000        6.890000          1519.000000     -0.046600   \n",
            "50%    15821.500000       11.070000          2731.000000      0.003800   \n",
            "75%    23732.250000       13.790000          4069.000000      0.064800   \n",
            "max    31643.000000       20.680000          7975.000000      0.232000   \n",
            "\n",
            "           D_e [mm]      D_h [mm]   length [mm]  chf_exp [MW/m2]  \n",
            "count  26156.000000  27055.000000  26885.000000     31644.000000  \n",
            "mean       8.629255     14.174330    832.987391         3.796985  \n",
            "std        5.185692     19.838489    672.299239         1.983991  \n",
            "min        1.000000      1.000000     10.000000         0.800000  \n",
            "25%        5.000000      5.600000    318.000000         2.400000  \n",
            "50%        7.800000     10.000000    610.000000         3.400000  \n",
            "75%       10.800000     11.500000    914.000000         4.600000  \n",
            "max       37.500000    120.000000   3048.000000        19.300000  \n",
            "Thompson        17396\n",
            "Janssen          2716\n",
            "Weatherhead      2040\n",
            "Beus             1604\n",
            "Peskov           1084\n",
            "Williams          891\n",
            "Richenderfer      545\n",
            "Mortimore         197\n",
            "Kossolapov        101\n",
            "Inasaka            46\n",
            "Name: author, dtype: int64\n"
          ]
        }
      ]
    },
    {
      "cell_type": "code",
      "source": [
        "# Group the data by author and geometry, and count the occurrences\n",
        "grouped = df.groupby(['author', 'geometry']).size().reset_index(name='count')\n",
        "\n",
        "# Display the results\n",
        "print(grouped)\n",
        "print(df['author'].unique())"
      ],
      "metadata": {
        "id": "Q1ANl4ccwKzb",
        "colab": {
          "base_uri": "https://localhost:8080/"
        },
        "outputId": "8426459f-33be-4446-bdaf-fea237e6278d"
      },
      "execution_count": null,
      "outputs": [
        {
          "output_type": "stream",
          "name": "stdout",
          "text": [
            "          author geometry  count\n",
            "0           Beus  annulus   1308\n",
            "1           Beus     tube     29\n",
            "2        Inasaka    plate      1\n",
            "3        Inasaka     tube     34\n",
            "4        Janssen  annulus   2247\n",
            "5        Janssen    plate      1\n",
            "6        Janssen     tube     31\n",
            "7     Kossolapov  annulus      1\n",
            "8     Kossolapov    plate     82\n",
            "9     Kossolapov     tube      3\n",
            "10     Mortimore  annulus    152\n",
            "11     Mortimore    plate      2\n",
            "12     Mortimore     tube      6\n",
            "13        Peskov  annulus      1\n",
            "14        Peskov    plate      3\n",
            "15        Peskov     tube    872\n",
            "16  Richenderfer  annulus      6\n",
            "17  Richenderfer    plate    408\n",
            "18  Richenderfer     tube     35\n",
            "19      Thompson  annulus      9\n",
            "20      Thompson    plate     11\n",
            "21      Thompson     tube  14324\n",
            "22   Weatherhead  annulus      1\n",
            "23   Weatherhead     tube   1698\n",
            "24      Williams  annulus      1\n",
            "25      Williams    plate      1\n",
            "26      Williams     tube    719\n",
            "['Thompson' 'Beus' nan 'Peskov' 'Janssen' 'Weatherhead' 'Inasaka'\n",
            " 'Williams' 'Mortimore' 'Richenderfer' 'Kossolapov']\n"
          ]
        }
      ]
    },
    {
      "cell_type": "code",
      "source": [
        "# Print the rows where both \"author\" and \"geometry\" are NaN\n",
        "print(len(df[(df[\"author\"].isnull()) & (df[\"geometry\"].isnull())]))"
      ],
      "metadata": {
        "colab": {
          "base_uri": "https://localhost:8080/"
        },
        "id": "4YdLA19dpkGA",
        "outputId": "53ec4593-1b29-4b8e-d6d7-fa9329d5f28a"
      },
      "execution_count": null,
      "outputs": [
        {
          "output_type": "stream",
          "name": "stdout",
          "text": [
            "866\n"
          ]
        }
      ]
    },
    {
      "cell_type": "code",
      "source": [
        "data=df.copy()\n",
        "# only rows where both author and geometry are NaN values will be dropped\n",
        "data.dropna(subset=['author', 'geometry'], how='all', inplace=True)\n",
        "#now replacing the rest nan values with 'unknown'\n",
        "data[['author', 'geometry']] = df[['author', 'geometry']].fillna('Unknown')\n",
        "\n"
      ],
      "metadata": {
        "id": "tDvMVZYDp-Tz"
      },
      "execution_count": null,
      "outputs": []
    },
    {
      "cell_type": "code",
      "source": [
        "# This will fill the missing values in \"pressure\" and max flux  column with the mean of the respective \"geometry\" group\n",
        "data['pressure [MPa]'] = data.groupby('geometry')['pressure [MPa]'].apply(lambda x: x.fillna(x.mean()))\n",
        "data['mass_flux [kg/m2-s]'] = data.groupby('geometry')['mass_flux [kg/m2-s]'].apply(lambda x: x.fillna(x.mean()))\n",
        "data['D_e [mm]'] = data.groupby('geometry')['D_e [mm]'].apply(lambda x: x.fillna(x.mean()))\n",
        "data['D_h [mm]'] = data.groupby('geometry')['D_h [mm]'].apply(lambda x: x.fillna(x.mean()))\n",
        "data['length [mm]'] = data.groupby('geometry')['length [mm]'].apply(lambda x: x.fillna(x.mean()))\n",
        "\n",
        "\n",
        "\n"
      ],
      "metadata": {
        "id": "4oR5ePEPsRNQ"
      },
      "execution_count": null,
      "outputs": []
    },
    {
      "cell_type": "code",
      "source": [
        "missing_values = data.isnull().sum()\n",
        "missing_percentage = (missing_values / len(data)) * 100\n",
        "print(\"\\nMissing Values Percentage:\\n\", missing_percentage)\n",
        "# missing_values"
      ],
      "metadata": {
        "colab": {
          "base_uri": "https://localhost:8080/"
        },
        "id": "sCsSpEl6wiqy",
        "outputId": "ccde770d-4b1e-4573-923a-d75300874248"
      },
      "execution_count": null,
      "outputs": [
        {
          "output_type": "stream",
          "name": "stdout",
          "text": [
            "\n",
            "Missing Values Percentage:\n",
            " id                      0.000000\n",
            "author                  0.000000\n",
            "geometry                0.000000\n",
            "pressure [MPa]          0.000000\n",
            "mass_flux [kg/m2-s]     0.000000\n",
            "x_e_out [-]            32.968354\n",
            "D_e [mm]                0.000000\n",
            "D_h [mm]                0.000000\n",
            "length [mm]             0.000000\n",
            "chf_exp [MW/m2]         0.000000\n",
            "dtype: float64\n"
          ]
        }
      ]
    },
    {
      "cell_type": "markdown",
      "source": [
        "x_e_out has a negative correlation with pressure and mass_flux, and a positive correlation with length. D_e and D_h have a moderate positive correlation with each other and length has a moderate positive correlation with x_e_out. chf_exp has a moderate negative correlation with x_e_out."
      ],
      "metadata": {
        "id": "DfhhVcl8yOG6"
      }
    },
    {
      "cell_type": "code",
      "source": [
        "data.head()"
      ],
      "metadata": {
        "colab": {
          "base_uri": "https://localhost:8080/",
          "height": 206
        },
        "id": "Eys3YbErzlmv",
        "outputId": "88e28b68-7acf-46f5-c0a6-0f951a83b485"
      },
      "execution_count": null,
      "outputs": [
        {
          "output_type": "execute_result",
          "data": {
            "text/plain": [
              "   id    author geometry  pressure [MPa]  mass_flux [kg/m2-s]  x_e_out [-]  \\\n",
              "0   0  Thompson     tube        7.000000               3770.0       0.1754   \n",
              "1   1  Thompson     tube       11.163435               6049.0      -0.0416   \n",
              "2   2  Thompson  Unknown       13.790000               2034.0       0.0335   \n",
              "3   3      Beus  annulus       13.790000               3679.0      -0.0279   \n",
              "4   4   Unknown     tube       13.790000                686.0          NaN   \n",
              "\n",
              "    D_e [mm]  D_h [mm]  length [mm]  chf_exp [MW/m2]  \n",
              "0   8.406165      10.8        432.0              3.6  \n",
              "1  10.300000      10.3        762.0              6.2  \n",
              "2   7.700000       7.7        457.0              2.5  \n",
              "3   5.600000      15.2       2134.0              3.0  \n",
              "4  11.100000      11.1        457.0              2.8  "
            ],
            "text/html": [
              "\n",
              "  <div id=\"df-db122c24-36fb-4519-8e50-2a9671d3f7ec\">\n",
              "    <div class=\"colab-df-container\">\n",
              "      <div>\n",
              "<style scoped>\n",
              "    .dataframe tbody tr th:only-of-type {\n",
              "        vertical-align: middle;\n",
              "    }\n",
              "\n",
              "    .dataframe tbody tr th {\n",
              "        vertical-align: top;\n",
              "    }\n",
              "\n",
              "    .dataframe thead th {\n",
              "        text-align: right;\n",
              "    }\n",
              "</style>\n",
              "<table border=\"1\" class=\"dataframe\">\n",
              "  <thead>\n",
              "    <tr style=\"text-align: right;\">\n",
              "      <th></th>\n",
              "      <th>id</th>\n",
              "      <th>author</th>\n",
              "      <th>geometry</th>\n",
              "      <th>pressure [MPa]</th>\n",
              "      <th>mass_flux [kg/m2-s]</th>\n",
              "      <th>x_e_out [-]</th>\n",
              "      <th>D_e [mm]</th>\n",
              "      <th>D_h [mm]</th>\n",
              "      <th>length [mm]</th>\n",
              "      <th>chf_exp [MW/m2]</th>\n",
              "    </tr>\n",
              "  </thead>\n",
              "  <tbody>\n",
              "    <tr>\n",
              "      <th>0</th>\n",
              "      <td>0</td>\n",
              "      <td>Thompson</td>\n",
              "      <td>tube</td>\n",
              "      <td>7.000000</td>\n",
              "      <td>3770.0</td>\n",
              "      <td>0.1754</td>\n",
              "      <td>8.406165</td>\n",
              "      <td>10.8</td>\n",
              "      <td>432.0</td>\n",
              "      <td>3.6</td>\n",
              "    </tr>\n",
              "    <tr>\n",
              "      <th>1</th>\n",
              "      <td>1</td>\n",
              "      <td>Thompson</td>\n",
              "      <td>tube</td>\n",
              "      <td>11.163435</td>\n",
              "      <td>6049.0</td>\n",
              "      <td>-0.0416</td>\n",
              "      <td>10.300000</td>\n",
              "      <td>10.3</td>\n",
              "      <td>762.0</td>\n",
              "      <td>6.2</td>\n",
              "    </tr>\n",
              "    <tr>\n",
              "      <th>2</th>\n",
              "      <td>2</td>\n",
              "      <td>Thompson</td>\n",
              "      <td>Unknown</td>\n",
              "      <td>13.790000</td>\n",
              "      <td>2034.0</td>\n",
              "      <td>0.0335</td>\n",
              "      <td>7.700000</td>\n",
              "      <td>7.7</td>\n",
              "      <td>457.0</td>\n",
              "      <td>2.5</td>\n",
              "    </tr>\n",
              "    <tr>\n",
              "      <th>3</th>\n",
              "      <td>3</td>\n",
              "      <td>Beus</td>\n",
              "      <td>annulus</td>\n",
              "      <td>13.790000</td>\n",
              "      <td>3679.0</td>\n",
              "      <td>-0.0279</td>\n",
              "      <td>5.600000</td>\n",
              "      <td>15.2</td>\n",
              "      <td>2134.0</td>\n",
              "      <td>3.0</td>\n",
              "    </tr>\n",
              "    <tr>\n",
              "      <th>4</th>\n",
              "      <td>4</td>\n",
              "      <td>Unknown</td>\n",
              "      <td>tube</td>\n",
              "      <td>13.790000</td>\n",
              "      <td>686.0</td>\n",
              "      <td>NaN</td>\n",
              "      <td>11.100000</td>\n",
              "      <td>11.1</td>\n",
              "      <td>457.0</td>\n",
              "      <td>2.8</td>\n",
              "    </tr>\n",
              "  </tbody>\n",
              "</table>\n",
              "</div>\n",
              "      <button class=\"colab-df-convert\" onclick=\"convertToInteractive('df-db122c24-36fb-4519-8e50-2a9671d3f7ec')\"\n",
              "              title=\"Convert this dataframe to an interactive table.\"\n",
              "              style=\"display:none;\">\n",
              "        \n",
              "  <svg xmlns=\"http://www.w3.org/2000/svg\" height=\"24px\"viewBox=\"0 0 24 24\"\n",
              "       width=\"24px\">\n",
              "    <path d=\"M0 0h24v24H0V0z\" fill=\"none\"/>\n",
              "    <path d=\"M18.56 5.44l.94 2.06.94-2.06 2.06-.94-2.06-.94-.94-2.06-.94 2.06-2.06.94zm-11 1L8.5 8.5l.94-2.06 2.06-.94-2.06-.94L8.5 2.5l-.94 2.06-2.06.94zm10 10l.94 2.06.94-2.06 2.06-.94-2.06-.94-.94-2.06-.94 2.06-2.06.94z\"/><path d=\"M17.41 7.96l-1.37-1.37c-.4-.4-.92-.59-1.43-.59-.52 0-1.04.2-1.43.59L10.3 9.45l-7.72 7.72c-.78.78-.78 2.05 0 2.83L4 21.41c.39.39.9.59 1.41.59.51 0 1.02-.2 1.41-.59l7.78-7.78 2.81-2.81c.8-.78.8-2.07 0-2.86zM5.41 20L4 18.59l7.72-7.72 1.47 1.35L5.41 20z\"/>\n",
              "  </svg>\n",
              "      </button>\n",
              "      \n",
              "  <style>\n",
              "    .colab-df-container {\n",
              "      display:flex;\n",
              "      flex-wrap:wrap;\n",
              "      gap: 12px;\n",
              "    }\n",
              "\n",
              "    .colab-df-convert {\n",
              "      background-color: #E8F0FE;\n",
              "      border: none;\n",
              "      border-radius: 50%;\n",
              "      cursor: pointer;\n",
              "      display: none;\n",
              "      fill: #1967D2;\n",
              "      height: 32px;\n",
              "      padding: 0 0 0 0;\n",
              "      width: 32px;\n",
              "    }\n",
              "\n",
              "    .colab-df-convert:hover {\n",
              "      background-color: #E2EBFA;\n",
              "      box-shadow: 0px 1px 2px rgba(60, 64, 67, 0.3), 0px 1px 3px 1px rgba(60, 64, 67, 0.15);\n",
              "      fill: #174EA6;\n",
              "    }\n",
              "\n",
              "    [theme=dark] .colab-df-convert {\n",
              "      background-color: #3B4455;\n",
              "      fill: #D2E3FC;\n",
              "    }\n",
              "\n",
              "    [theme=dark] .colab-df-convert:hover {\n",
              "      background-color: #434B5C;\n",
              "      box-shadow: 0px 1px 3px 1px rgba(0, 0, 0, 0.15);\n",
              "      filter: drop-shadow(0px 1px 2px rgba(0, 0, 0, 0.3));\n",
              "      fill: #FFFFFF;\n",
              "    }\n",
              "  </style>\n",
              "\n",
              "      <script>\n",
              "        const buttonEl =\n",
              "          document.querySelector('#df-db122c24-36fb-4519-8e50-2a9671d3f7ec button.colab-df-convert');\n",
              "        buttonEl.style.display =\n",
              "          google.colab.kernel.accessAllowed ? 'block' : 'none';\n",
              "\n",
              "        async function convertToInteractive(key) {\n",
              "          const element = document.querySelector('#df-db122c24-36fb-4519-8e50-2a9671d3f7ec');\n",
              "          const dataTable =\n",
              "            await google.colab.kernel.invokeFunction('convertToInteractive',\n",
              "                                                     [key], {});\n",
              "          if (!dataTable) return;\n",
              "\n",
              "          const docLinkHtml = 'Like what you see? Visit the ' +\n",
              "            '<a target=\"_blank\" href=https://colab.research.google.com/notebooks/data_table.ipynb>data table notebook</a>'\n",
              "            + ' to learn more about interactive tables.';\n",
              "          element.innerHTML = '';\n",
              "          dataTable['output_type'] = 'display_data';\n",
              "          await google.colab.output.renderOutput(dataTable, element);\n",
              "          const docLink = document.createElement('div');\n",
              "          docLink.innerHTML = docLinkHtml;\n",
              "          element.appendChild(docLink);\n",
              "        }\n",
              "      </script>\n",
              "    </div>\n",
              "  </div>\n",
              "  "
            ]
          },
          "metadata": {},
          "execution_count": 159
        }
      ]
    },
    {
      "cell_type": "markdown",
      "source": [
        "# splitting the data in two set"
      ],
      "metadata": {
        "id": "gF4sHNxnnaQ3"
      }
    },
    {
      "cell_type": "code",
      "source": [
        "# Split the data into two sets based on the presence of missing values in the target column\n",
        "df_missing = data[data['x_e_out [-]'].isnull()]\n",
        "df_non_missing = data[~data['x_e_out [-]'].isnull()]\n"
      ],
      "metadata": {
        "id": "rrYez4AHx5T7"
      },
      "execution_count": null,
      "outputs": []
    },
    {
      "cell_type": "code",
      "source": [
        "df_test=df_missing.drop('x_e_out [-]', axis=1)\n",
        "df_train=df_non_missing.drop('id', axis=1)"
      ],
      "metadata": {
        "id": "nD8TqQXQ0aa7"
      },
      "execution_count": null,
      "outputs": []
    },
    {
      "cell_type": "code",
      "source": [
        "df_train.shape"
      ],
      "metadata": {
        "colab": {
          "base_uri": "https://localhost:8080/"
        },
        "id": "oiT2nAbH9jCe",
        "outputId": "c7c31d33-df12-4618-87d4-84c3b6ffa7b4"
      },
      "execution_count": null,
      "outputs": [
        {
          "output_type": "execute_result",
          "data": {
            "text/plain": [
              "(20631, 9)"
            ]
          },
          "metadata": {},
          "execution_count": 162
        }
      ]
    },
    {
      "cell_type": "code",
      "source": [
        "df_train.isnull().sum()"
      ],
      "metadata": {
        "colab": {
          "base_uri": "https://localhost:8080/"
        },
        "id": "EE5AJvXf7E9a",
        "outputId": "541fa3cf-b79f-4c30-c25d-2456888c4958"
      },
      "execution_count": null,
      "outputs": [
        {
          "output_type": "execute_result",
          "data": {
            "text/plain": [
              "author                 0\n",
              "geometry               0\n",
              "pressure [MPa]         0\n",
              "mass_flux [kg/m2-s]    0\n",
              "x_e_out [-]            0\n",
              "D_e [mm]               0\n",
              "D_h [mm]               0\n",
              "length [mm]            0\n",
              "chf_exp [MW/m2]        0\n",
              "dtype: int64"
            ]
          },
          "metadata": {},
          "execution_count": 163
        }
      ]
    },
    {
      "cell_type": "code",
      "source": [
        "from sklearn.preprocessing import OneHotEncoder\n",
        "\n",
        "# Define the categorical columns to be encoded\n",
        "cat_cols = ['author', 'geometry']\n",
        "\n",
        "# Instantiate the encoder\n",
        "encoder = OneHotEncoder()\n",
        "\n",
        "# Fit and transform the training set\n",
        "train_encoded = encoder.fit_transform(df_train[cat_cols])\n",
        "\n",
        "# Transform the test set\n",
        "test_encoded = encoder.transform(df_test[cat_cols])\n",
        "\n",
        "# Get the encoded column names\n",
        "encoded_cols = encoder.get_feature_names_out(cat_cols)\n",
        "\n",
        "# Create new dataframes with the encoded columns\n",
        "X_train_encoded_df = pd.DataFrame(train_encoded.toarray(), columns=encoded_cols)\n",
        "X_test_encoded_df = pd.DataFrame(test_encoded.toarray(), columns=encoded_cols)\n",
        "#resetting the index\n",
        "df_train.reset_index(drop=True, inplace=True)\n",
        "X_train_encoded_df.reset_index(drop=True, inplace=True)\n",
        "df_encoded_train = pd.concat([df_train.drop(cat_cols, axis=1), X_train_encoded_df], axis=1)\n",
        "\n",
        "df_test.reset_index(drop=True, inplace=True)\n",
        "X_test_encoded_df.reset_index(drop=True, inplace=True)\n",
        "df_encoded_test = pd.concat([df_test.drop(cat_cols, axis=1), X_test_encoded_df], axis=1)\n"
      ],
      "metadata": {
        "id": "wDXf2kwh09bM"
      },
      "execution_count": null,
      "outputs": []
    },
    {
      "cell_type": "markdown",
      "source": [
        "# Modeling the data:"
      ],
      "metadata": {
        "id": "NMvos_8Dt7DC"
      }
    },
    {
      "cell_type": "code",
      "source": [
        "import pandas as pd\n",
        "from sklearn.preprocessing import OneHotEncoder\n",
        "from sklearn.linear_model import LinearRegression\n",
        "from sklearn.model_selection import train_test_split\n",
        "from sklearn.metrics import mean_squared_error\n",
        "\n",
        "# Load the data\n",
        "df=df_encoded_train\n",
        "# Drop any rows with missing values in the target column\n",
        "df = df.dropna(subset=['x_e_out [-]'])\n",
        "\n",
        "\n",
        "# Split the data into training and testing sets\n",
        "X = df.drop('x_e_out [-]', axis=1)\n",
        "y = df['x_e_out [-]']\n",
        "X_train, X_test, y_train, y_test = train_test_split(X, y, test_size=0.2, random_state=42)\n",
        "\n",
        "# Train a regression model\n",
        "model = LinearRegression()\n",
        "model.fit(X_train, y_train)\n",
        "\n",
        "# Evaluate the model\n",
        "y_pred = model.predict(X_test)\n",
        "mse = mean_squared_error(y_test, y_pred)\n",
        "print(f\"Mean squared error: {mse:.2f}\")\n"
      ],
      "metadata": {
        "colab": {
          "base_uri": "https://localhost:8080/"
        },
        "id": "21Io8LSQt-fz",
        "outputId": "23ae3752-c783-43a1-db9b-c3e5bca7f14f"
      },
      "execution_count": null,
      "outputs": [
        {
          "output_type": "stream",
          "name": "stdout",
          "text": [
            "Mean squared error: 0.01\n"
          ]
        }
      ]
    },
    {
      "cell_type": "code",
      "source": [
        "from sklearn.tree import DecisionTreeRegressor\n",
        "from sklearn.ensemble import RandomForestRegressor, GradientBoostingRegressor\n",
        "from sklearn.svm import SVR\n",
        "from sklearn.metrics import mean_squared_error\n",
        "\n",
        "# Define the models\n",
        "dt = DecisionTreeRegressor()\n",
        "rf = RandomForestRegressor()\n",
        "svm = SVR()\n",
        "gb = GradientBoostingRegressor()\n",
        "\n",
        "# Train the models\n",
        "dt.fit(X_train, y_train)\n",
        "rf.fit(X_train, y_train)\n",
        "svm.fit(X_train, y_train)\n",
        "gb.fit(X_train, y_train)\n",
        "\n",
        "# Make predictions on the test set\n",
        "dt_preds = dt.predict(X_test)\n",
        "rf_preds = rf.predict(X_test)\n",
        "svm_preds = svm.predict(X_test)\n",
        "gb_preds = gb.predict(X_test)\n",
        "\n",
        "# Calculate the mean squared error for each model\n",
        "dt_mse = mean_squared_error(y_test, dt_preds)\n",
        "rf_mse = mean_squared_error(y_test, rf_preds)\n",
        "svm_mse = mean_squared_error(y_test, svm_preds)\n",
        "gb_mse = mean_squared_error(y_test, gb_preds)\n",
        "\n",
        "# Print the mean squared error for each model\n",
        "print(f\"Decision Tree MSE: {dt_mse}\")\n",
        "print(f\"Random Forest MSE: {rf_mse}\")\n",
        "print(f\"SVM MSE: {svm_mse}\")\n",
        "print(f\"Gradient Boosting MSE: {gb_mse}\")"
      ],
      "metadata": {
        "colab": {
          "base_uri": "https://localhost:8080/"
        },
        "id": "2HM1RNeqv8VX",
        "outputId": "c499a8aa-1c02-4460-f0e9-f36254c96951"
      },
      "execution_count": null,
      "outputs": [
        {
          "output_type": "stream",
          "name": "stdout",
          "text": [
            "Decision Tree MSE: 0.011716390764891331\n",
            "Random Forest MSE: 0.006625418739123754\n",
            "SVM MSE: 0.009092254933443638\n",
            "Gradient Boosting MSE: 0.006182402190366584\n"
          ]
        }
      ]
    },
    {
      "cell_type": "code",
      "source": [
        "from sklearn.model_selection import RandomizedSearchCV\n",
        "from sklearn.ensemble import GradientBoostingRegressor\n",
        "from scipy.stats import randint as sp_randint\n",
        "\n",
        "# Define the model\n",
        "gb = GradientBoostingRegressor()\n",
        "\n",
        "params = {'n_estimators': 100, 'learning_rate': 0.05, 'max_depth': 8, 'max_features': 'log2'}\n",
        "\n",
        "# Create a GradientBoostingRegressor object with the best hyperparameters\n",
        "gbm = GradientBoostingRegressor(**params)\n",
        "gbm.fit(X_train, y_train)\n",
        "gbm_preds = gbm.predict(X_test)\n",
        "gbm_mse = mean_squared_error(y_test, gbm_preds)\n",
        "print(f\"Gradient Boosting MSE: {gbm_mse}\")\n",
        "\n"
      ],
      "metadata": {
        "colab": {
          "base_uri": "https://localhost:8080/"
        },
        "id": "r-QJvwdKEfSb",
        "outputId": "26f4d9bd-ae4d-4fdd-ec92-fcf7248c9c48"
      },
      "execution_count": null,
      "outputs": [
        {
          "output_type": "stream",
          "name": "stdout",
          "text": [
            "Gradient Boosting MSE: 0.00594223934801933\n"
          ]
        }
      ]
    },
    {
      "cell_type": "code",
      "source": [
        "prediction=gbm.predict(df_encoded_test.drop('id',axis=1))"
      ],
      "metadata": {
        "id": "PoqshuNGFLYD"
      },
      "execution_count": null,
      "outputs": []
    },
    {
      "cell_type": "code",
      "source": [
        "# Create submission DataFrame\n",
        "submission_df = pd.DataFrame({\n",
        "    \"id\": df_encoded_test[\"id\"],\n",
        "    \"x_e_out [-]\": prediction\n",
        "})\n",
        "\n",
        "# Save submission file to CSV format\n",
        "submission_df.to_csv(\"submission.csv\", index=False)"
      ],
      "metadata": {
        "id": "ReS5CfB1ICNj"
      },
      "execution_count": null,
      "outputs": []
    },
    {
      "cell_type": "code",
      "source": [
        "pd.read_csv('submission.csv')"
      ],
      "metadata": {
        "colab": {
          "base_uri": "https://localhost:8080/",
          "height": 424
        },
        "id": "0QwUGHRgJu74",
        "outputId": "a82d7bfd-f8ab-477f-8b2a-ff900af629f7"
      },
      "execution_count": null,
      "outputs": [
        {
          "output_type": "execute_result",
          "data": {
            "text/plain": [
              "          id  x_e_out [-]\n",
              "0          4     0.009539\n",
              "1          7    -0.081706\n",
              "2         10    -0.047053\n",
              "3         12    -0.005600\n",
              "4         23     0.042447\n",
              "...      ...          ...\n",
              "10142  31632    -0.082238\n",
              "10143  31633     0.059746\n",
              "10144  31634    -0.049013\n",
              "10145  31637     0.021802\n",
              "10146  31642    -0.000420\n",
              "\n",
              "[10147 rows x 2 columns]"
            ],
            "text/html": [
              "\n",
              "  <div id=\"df-2e32f34e-abbb-4549-8809-e40635825678\">\n",
              "    <div class=\"colab-df-container\">\n",
              "      <div>\n",
              "<style scoped>\n",
              "    .dataframe tbody tr th:only-of-type {\n",
              "        vertical-align: middle;\n",
              "    }\n",
              "\n",
              "    .dataframe tbody tr th {\n",
              "        vertical-align: top;\n",
              "    }\n",
              "\n",
              "    .dataframe thead th {\n",
              "        text-align: right;\n",
              "    }\n",
              "</style>\n",
              "<table border=\"1\" class=\"dataframe\">\n",
              "  <thead>\n",
              "    <tr style=\"text-align: right;\">\n",
              "      <th></th>\n",
              "      <th>id</th>\n",
              "      <th>x_e_out [-]</th>\n",
              "    </tr>\n",
              "  </thead>\n",
              "  <tbody>\n",
              "    <tr>\n",
              "      <th>0</th>\n",
              "      <td>4</td>\n",
              "      <td>0.009539</td>\n",
              "    </tr>\n",
              "    <tr>\n",
              "      <th>1</th>\n",
              "      <td>7</td>\n",
              "      <td>-0.081706</td>\n",
              "    </tr>\n",
              "    <tr>\n",
              "      <th>2</th>\n",
              "      <td>10</td>\n",
              "      <td>-0.047053</td>\n",
              "    </tr>\n",
              "    <tr>\n",
              "      <th>3</th>\n",
              "      <td>12</td>\n",
              "      <td>-0.005600</td>\n",
              "    </tr>\n",
              "    <tr>\n",
              "      <th>4</th>\n",
              "      <td>23</td>\n",
              "      <td>0.042447</td>\n",
              "    </tr>\n",
              "    <tr>\n",
              "      <th>...</th>\n",
              "      <td>...</td>\n",
              "      <td>...</td>\n",
              "    </tr>\n",
              "    <tr>\n",
              "      <th>10142</th>\n",
              "      <td>31632</td>\n",
              "      <td>-0.082238</td>\n",
              "    </tr>\n",
              "    <tr>\n",
              "      <th>10143</th>\n",
              "      <td>31633</td>\n",
              "      <td>0.059746</td>\n",
              "    </tr>\n",
              "    <tr>\n",
              "      <th>10144</th>\n",
              "      <td>31634</td>\n",
              "      <td>-0.049013</td>\n",
              "    </tr>\n",
              "    <tr>\n",
              "      <th>10145</th>\n",
              "      <td>31637</td>\n",
              "      <td>0.021802</td>\n",
              "    </tr>\n",
              "    <tr>\n",
              "      <th>10146</th>\n",
              "      <td>31642</td>\n",
              "      <td>-0.000420</td>\n",
              "    </tr>\n",
              "  </tbody>\n",
              "</table>\n",
              "<p>10147 rows × 2 columns</p>\n",
              "</div>\n",
              "      <button class=\"colab-df-convert\" onclick=\"convertToInteractive('df-2e32f34e-abbb-4549-8809-e40635825678')\"\n",
              "              title=\"Convert this dataframe to an interactive table.\"\n",
              "              style=\"display:none;\">\n",
              "        \n",
              "  <svg xmlns=\"http://www.w3.org/2000/svg\" height=\"24px\"viewBox=\"0 0 24 24\"\n",
              "       width=\"24px\">\n",
              "    <path d=\"M0 0h24v24H0V0z\" fill=\"none\"/>\n",
              "    <path d=\"M18.56 5.44l.94 2.06.94-2.06 2.06-.94-2.06-.94-.94-2.06-.94 2.06-2.06.94zm-11 1L8.5 8.5l.94-2.06 2.06-.94-2.06-.94L8.5 2.5l-.94 2.06-2.06.94zm10 10l.94 2.06.94-2.06 2.06-.94-2.06-.94-.94-2.06-.94 2.06-2.06.94z\"/><path d=\"M17.41 7.96l-1.37-1.37c-.4-.4-.92-.59-1.43-.59-.52 0-1.04.2-1.43.59L10.3 9.45l-7.72 7.72c-.78.78-.78 2.05 0 2.83L4 21.41c.39.39.9.59 1.41.59.51 0 1.02-.2 1.41-.59l7.78-7.78 2.81-2.81c.8-.78.8-2.07 0-2.86zM5.41 20L4 18.59l7.72-7.72 1.47 1.35L5.41 20z\"/>\n",
              "  </svg>\n",
              "      </button>\n",
              "      \n",
              "  <style>\n",
              "    .colab-df-container {\n",
              "      display:flex;\n",
              "      flex-wrap:wrap;\n",
              "      gap: 12px;\n",
              "    }\n",
              "\n",
              "    .colab-df-convert {\n",
              "      background-color: #E8F0FE;\n",
              "      border: none;\n",
              "      border-radius: 50%;\n",
              "      cursor: pointer;\n",
              "      display: none;\n",
              "      fill: #1967D2;\n",
              "      height: 32px;\n",
              "      padding: 0 0 0 0;\n",
              "      width: 32px;\n",
              "    }\n",
              "\n",
              "    .colab-df-convert:hover {\n",
              "      background-color: #E2EBFA;\n",
              "      box-shadow: 0px 1px 2px rgba(60, 64, 67, 0.3), 0px 1px 3px 1px rgba(60, 64, 67, 0.15);\n",
              "      fill: #174EA6;\n",
              "    }\n",
              "\n",
              "    [theme=dark] .colab-df-convert {\n",
              "      background-color: #3B4455;\n",
              "      fill: #D2E3FC;\n",
              "    }\n",
              "\n",
              "    [theme=dark] .colab-df-convert:hover {\n",
              "      background-color: #434B5C;\n",
              "      box-shadow: 0px 1px 3px 1px rgba(0, 0, 0, 0.15);\n",
              "      filter: drop-shadow(0px 1px 2px rgba(0, 0, 0, 0.3));\n",
              "      fill: #FFFFFF;\n",
              "    }\n",
              "  </style>\n",
              "\n",
              "      <script>\n",
              "        const buttonEl =\n",
              "          document.querySelector('#df-2e32f34e-abbb-4549-8809-e40635825678 button.colab-df-convert');\n",
              "        buttonEl.style.display =\n",
              "          google.colab.kernel.accessAllowed ? 'block' : 'none';\n",
              "\n",
              "        async function convertToInteractive(key) {\n",
              "          const element = document.querySelector('#df-2e32f34e-abbb-4549-8809-e40635825678');\n",
              "          const dataTable =\n",
              "            await google.colab.kernel.invokeFunction('convertToInteractive',\n",
              "                                                     [key], {});\n",
              "          if (!dataTable) return;\n",
              "\n",
              "          const docLinkHtml = 'Like what you see? Visit the ' +\n",
              "            '<a target=\"_blank\" href=https://colab.research.google.com/notebooks/data_table.ipynb>data table notebook</a>'\n",
              "            + ' to learn more about interactive tables.';\n",
              "          element.innerHTML = '';\n",
              "          dataTable['output_type'] = 'display_data';\n",
              "          await google.colab.output.renderOutput(dataTable, element);\n",
              "          const docLink = document.createElement('div');\n",
              "          docLink.innerHTML = docLinkHtml;\n",
              "          element.appendChild(docLink);\n",
              "        }\n",
              "      </script>\n",
              "    </div>\n",
              "  </div>\n",
              "  "
            ]
          },
          "metadata": {},
          "execution_count": 179
        }
      ]
    },
    {
      "cell_type": "code",
      "source": [],
      "metadata": {
        "id": "pRi-9yqtJxL4"
      },
      "execution_count": null,
      "outputs": []
    }
  ]
}