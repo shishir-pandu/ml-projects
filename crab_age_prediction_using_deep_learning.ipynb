{
  "metadata": {
    "kernelspec": {
      "display_name": "Python 3",
      "name": "python3"
    },
    "language_info": {
      "name": "python",
      "version": "3.10.10",
      "mimetype": "text/x-python",
      "codemirror_mode": {
        "name": "ipython",
        "version": 3
      },
      "pygments_lexer": "ipython3",
      "nbconvert_exporter": "python",
      "file_extension": ".py"
    },
    "colab": {
      "provenance": [],
      "gpuType": "T4"
    }
  },
  "nbformat_minor": 0,
  "nbformat": 4,
  "cells": [
    {
      "cell_type": "code",
      "source": [],
      "metadata": {
        "_uuid": "8f2839f25d086af736a60e9eeb907d3b93b6e0e5",
        "_cell_guid": "b1076dfc-b9ad-4769-8c92-a6c4dae69d19",
        "execution": {
          "iopub.status.busy": "2023-06-12T08:29:57.717905Z",
          "iopub.execute_input": "2023-06-12T08:29:57.718385Z",
          "iopub.status.idle": "2023-06-12T08:29:57.762499Z",
          "shell.execute_reply.started": "2023-06-12T08:29:57.718346Z",
          "shell.execute_reply": "2023-06-12T08:29:57.761372Z"
        },
        "trusted": true,
        "id": "380JpYj-w3AR"
      },
      "execution_count": null,
      "outputs": []
    },
    {
      "cell_type": "code",
      "source": [
        "from google.colab import drive\n",
        "drive.mount('/content/drive')"
      ],
      "metadata": {
        "colab": {
          "base_uri": "https://localhost:8080/"
        },
        "id": "mJd7KCGqxBrA",
        "outputId": "2eac4cde-45a9-4ce1-98c9-22194b9d5ebe"
      },
      "execution_count": 1,
      "outputs": [
        {
          "output_type": "stream",
          "name": "stdout",
          "text": [
            "Mounted at /content/drive\n"
          ]
        }
      ]
    },
    {
      "cell_type": "code",
      "source": [
        "import pandas as pd\n",
        "import numpy as np\n",
        "import matplotlib.pyplot as plt \n",
        "import seaborn as sns\n",
        "import warnings \n",
        "warnings.filterwarnings('ignore')"
      ],
      "metadata": {
        "execution": {
          "iopub.status.busy": "2023-06-12T08:29:57.764786Z",
          "iopub.execute_input": "2023-06-12T08:29:57.765555Z",
          "iopub.status.idle": "2023-06-12T08:29:59.324136Z",
          "shell.execute_reply.started": "2023-06-12T08:29:57.765512Z",
          "shell.execute_reply": "2023-06-12T08:29:59.322919Z"
        },
        "trusted": true,
        "id": "42MTby8uw3AW"
      },
      "execution_count": 84,
      "outputs": []
    },
    {
      "cell_type": "code",
      "source": [
        "\n",
        "sub_df=pd.read_csv('/content/drive/MyDrive/Colab Notebooks/kaggle/sample_submission.csv')\n",
        "train_df=pd.read_csv('/content/drive/MyDrive/Colab Notebooks/kaggle/train.csv')\n",
        "test_df=pd.read_csv('/content/drive/MyDrive/Colab Notebooks/kaggle/test.csv')"
      ],
      "metadata": {
        "execution": {
          "iopub.status.busy": "2023-06-12T08:29:59.325343Z",
          "iopub.execute_input": "2023-06-12T08:29:59.325697Z",
          "iopub.status.idle": "2023-06-12T08:29:59.683383Z",
          "shell.execute_reply.started": "2023-06-12T08:29:59.325652Z",
          "shell.execute_reply": "2023-06-12T08:29:59.682301Z"
        },
        "trusted": true,
        "id": "g5PrWJXjw3AX"
      },
      "execution_count": 85,
      "outputs": []
    },
    {
      "cell_type": "code",
      "source": [
        "train_df.head()"
      ],
      "metadata": {
        "execution": {
          "iopub.status.busy": "2023-06-12T08:29:59.686092Z",
          "iopub.execute_input": "2023-06-12T08:29:59.686428Z",
          "iopub.status.idle": "2023-06-12T08:29:59.721780Z",
          "shell.execute_reply.started": "2023-06-12T08:29:59.686398Z",
          "shell.execute_reply": "2023-06-12T08:29:59.720322Z"
        },
        "trusted": true,
        "colab": {
          "base_uri": "https://localhost:8080/",
          "height": 206
        },
        "id": "-r8ZzQ1qw3AY",
        "outputId": "f0b89fc4-faf5-422b-e32c-0834da30b87d"
      },
      "execution_count": 86,
      "outputs": [
        {
          "output_type": "execute_result",
          "data": {
            "text/plain": [
              "   id Sex  Length  Diameter  Height     Weight  Shucked Weight  \\\n",
              "0   0   I  1.5250    1.1750  0.3750  28.973189       12.728926   \n",
              "1   1   I  1.1000    0.8250  0.2750  10.418441        4.521745   \n",
              "2   2   M  1.3875    1.1125  0.3750  24.777463       11.339800   \n",
              "3   3   F  1.7000    1.4125  0.5000  50.660556       20.354941   \n",
              "4   4   I  1.2500    1.0125  0.3375  23.289114       11.977664   \n",
              "\n",
              "   Viscera Weight  Shell Weight  Age  \n",
              "0        6.647958      8.348928    9  \n",
              "1        2.324659      3.401940    8  \n",
              "2        5.556502      6.662133    9  \n",
              "3       10.991839     14.996885   11  \n",
              "4        4.507570      5.953395    8  "
            ],
            "text/html": [
              "\n",
              "  <div id=\"df-59f28501-2223-41b7-89ff-06e7f80f0d4e\">\n",
              "    <div class=\"colab-df-container\">\n",
              "      <div>\n",
              "<style scoped>\n",
              "    .dataframe tbody tr th:only-of-type {\n",
              "        vertical-align: middle;\n",
              "    }\n",
              "\n",
              "    .dataframe tbody tr th {\n",
              "        vertical-align: top;\n",
              "    }\n",
              "\n",
              "    .dataframe thead th {\n",
              "        text-align: right;\n",
              "    }\n",
              "</style>\n",
              "<table border=\"1\" class=\"dataframe\">\n",
              "  <thead>\n",
              "    <tr style=\"text-align: right;\">\n",
              "      <th></th>\n",
              "      <th>id</th>\n",
              "      <th>Sex</th>\n",
              "      <th>Length</th>\n",
              "      <th>Diameter</th>\n",
              "      <th>Height</th>\n",
              "      <th>Weight</th>\n",
              "      <th>Shucked Weight</th>\n",
              "      <th>Viscera Weight</th>\n",
              "      <th>Shell Weight</th>\n",
              "      <th>Age</th>\n",
              "    </tr>\n",
              "  </thead>\n",
              "  <tbody>\n",
              "    <tr>\n",
              "      <th>0</th>\n",
              "      <td>0</td>\n",
              "      <td>I</td>\n",
              "      <td>1.5250</td>\n",
              "      <td>1.1750</td>\n",
              "      <td>0.3750</td>\n",
              "      <td>28.973189</td>\n",
              "      <td>12.728926</td>\n",
              "      <td>6.647958</td>\n",
              "      <td>8.348928</td>\n",
              "      <td>9</td>\n",
              "    </tr>\n",
              "    <tr>\n",
              "      <th>1</th>\n",
              "      <td>1</td>\n",
              "      <td>I</td>\n",
              "      <td>1.1000</td>\n",
              "      <td>0.8250</td>\n",
              "      <td>0.2750</td>\n",
              "      <td>10.418441</td>\n",
              "      <td>4.521745</td>\n",
              "      <td>2.324659</td>\n",
              "      <td>3.401940</td>\n",
              "      <td>8</td>\n",
              "    </tr>\n",
              "    <tr>\n",
              "      <th>2</th>\n",
              "      <td>2</td>\n",
              "      <td>M</td>\n",
              "      <td>1.3875</td>\n",
              "      <td>1.1125</td>\n",
              "      <td>0.3750</td>\n",
              "      <td>24.777463</td>\n",
              "      <td>11.339800</td>\n",
              "      <td>5.556502</td>\n",
              "      <td>6.662133</td>\n",
              "      <td>9</td>\n",
              "    </tr>\n",
              "    <tr>\n",
              "      <th>3</th>\n",
              "      <td>3</td>\n",
              "      <td>F</td>\n",
              "      <td>1.7000</td>\n",
              "      <td>1.4125</td>\n",
              "      <td>0.5000</td>\n",
              "      <td>50.660556</td>\n",
              "      <td>20.354941</td>\n",
              "      <td>10.991839</td>\n",
              "      <td>14.996885</td>\n",
              "      <td>11</td>\n",
              "    </tr>\n",
              "    <tr>\n",
              "      <th>4</th>\n",
              "      <td>4</td>\n",
              "      <td>I</td>\n",
              "      <td>1.2500</td>\n",
              "      <td>1.0125</td>\n",
              "      <td>0.3375</td>\n",
              "      <td>23.289114</td>\n",
              "      <td>11.977664</td>\n",
              "      <td>4.507570</td>\n",
              "      <td>5.953395</td>\n",
              "      <td>8</td>\n",
              "    </tr>\n",
              "  </tbody>\n",
              "</table>\n",
              "</div>\n",
              "      <button class=\"colab-df-convert\" onclick=\"convertToInteractive('df-59f28501-2223-41b7-89ff-06e7f80f0d4e')\"\n",
              "              title=\"Convert this dataframe to an interactive table.\"\n",
              "              style=\"display:none;\">\n",
              "        \n",
              "  <svg xmlns=\"http://www.w3.org/2000/svg\" height=\"24px\"viewBox=\"0 0 24 24\"\n",
              "       width=\"24px\">\n",
              "    <path d=\"M0 0h24v24H0V0z\" fill=\"none\"/>\n",
              "    <path d=\"M18.56 5.44l.94 2.06.94-2.06 2.06-.94-2.06-.94-.94-2.06-.94 2.06-2.06.94zm-11 1L8.5 8.5l.94-2.06 2.06-.94-2.06-.94L8.5 2.5l-.94 2.06-2.06.94zm10 10l.94 2.06.94-2.06 2.06-.94-2.06-.94-.94-2.06-.94 2.06-2.06.94z\"/><path d=\"M17.41 7.96l-1.37-1.37c-.4-.4-.92-.59-1.43-.59-.52 0-1.04.2-1.43.59L10.3 9.45l-7.72 7.72c-.78.78-.78 2.05 0 2.83L4 21.41c.39.39.9.59 1.41.59.51 0 1.02-.2 1.41-.59l7.78-7.78 2.81-2.81c.8-.78.8-2.07 0-2.86zM5.41 20L4 18.59l7.72-7.72 1.47 1.35L5.41 20z\"/>\n",
              "  </svg>\n",
              "      </button>\n",
              "      \n",
              "  <style>\n",
              "    .colab-df-container {\n",
              "      display:flex;\n",
              "      flex-wrap:wrap;\n",
              "      gap: 12px;\n",
              "    }\n",
              "\n",
              "    .colab-df-convert {\n",
              "      background-color: #E8F0FE;\n",
              "      border: none;\n",
              "      border-radius: 50%;\n",
              "      cursor: pointer;\n",
              "      display: none;\n",
              "      fill: #1967D2;\n",
              "      height: 32px;\n",
              "      padding: 0 0 0 0;\n",
              "      width: 32px;\n",
              "    }\n",
              "\n",
              "    .colab-df-convert:hover {\n",
              "      background-color: #E2EBFA;\n",
              "      box-shadow: 0px 1px 2px rgba(60, 64, 67, 0.3), 0px 1px 3px 1px rgba(60, 64, 67, 0.15);\n",
              "      fill: #174EA6;\n",
              "    }\n",
              "\n",
              "    [theme=dark] .colab-df-convert {\n",
              "      background-color: #3B4455;\n",
              "      fill: #D2E3FC;\n",
              "    }\n",
              "\n",
              "    [theme=dark] .colab-df-convert:hover {\n",
              "      background-color: #434B5C;\n",
              "      box-shadow: 0px 1px 3px 1px rgba(0, 0, 0, 0.15);\n",
              "      filter: drop-shadow(0px 1px 2px rgba(0, 0, 0, 0.3));\n",
              "      fill: #FFFFFF;\n",
              "    }\n",
              "  </style>\n",
              "\n",
              "      <script>\n",
              "        const buttonEl =\n",
              "          document.querySelector('#df-59f28501-2223-41b7-89ff-06e7f80f0d4e button.colab-df-convert');\n",
              "        buttonEl.style.display =\n",
              "          google.colab.kernel.accessAllowed ? 'block' : 'none';\n",
              "\n",
              "        async function convertToInteractive(key) {\n",
              "          const element = document.querySelector('#df-59f28501-2223-41b7-89ff-06e7f80f0d4e');\n",
              "          const dataTable =\n",
              "            await google.colab.kernel.invokeFunction('convertToInteractive',\n",
              "                                                     [key], {});\n",
              "          if (!dataTable) return;\n",
              "\n",
              "          const docLinkHtml = 'Like what you see? Visit the ' +\n",
              "            '<a target=\"_blank\" href=https://colab.research.google.com/notebooks/data_table.ipynb>data table notebook</a>'\n",
              "            + ' to learn more about interactive tables.';\n",
              "          element.innerHTML = '';\n",
              "          dataTable['output_type'] = 'display_data';\n",
              "          await google.colab.output.renderOutput(dataTable, element);\n",
              "          const docLink = document.createElement('div');\n",
              "          docLink.innerHTML = docLinkHtml;\n",
              "          element.appendChild(docLink);\n",
              "        }\n",
              "      </script>\n",
              "    </div>\n",
              "  </div>\n",
              "  "
            ]
          },
          "metadata": {},
          "execution_count": 86
        }
      ]
    },
    {
      "cell_type": "code",
      "source": [
        "train_df.isnull().any()"
      ],
      "metadata": {
        "execution": {
          "iopub.status.busy": "2023-06-12T08:29:59.723446Z",
          "iopub.execute_input": "2023-06-12T08:29:59.723928Z",
          "iopub.status.idle": "2023-06-12T08:29:59.758945Z",
          "shell.execute_reply.started": "2023-06-12T08:29:59.723897Z",
          "shell.execute_reply": "2023-06-12T08:29:59.757319Z"
        },
        "trusted": true,
        "colab": {
          "base_uri": "https://localhost:8080/"
        },
        "id": "kJ8t1PFEw3AY",
        "outputId": "8d7a0e5f-2823-44c9-8828-ba101a0174d4"
      },
      "execution_count": 87,
      "outputs": [
        {
          "output_type": "execute_result",
          "data": {
            "text/plain": [
              "id                False\n",
              "Sex               False\n",
              "Length            False\n",
              "Diameter          False\n",
              "Height            False\n",
              "Weight            False\n",
              "Shucked Weight    False\n",
              "Viscera Weight    False\n",
              "Shell Weight      False\n",
              "Age               False\n",
              "dtype: bool"
            ]
          },
          "metadata": {},
          "execution_count": 87
        }
      ]
    },
    {
      "cell_type": "markdown",
      "source": [
        "## handling the sex column"
      ],
      "metadata": {
        "id": "0SbQSws0w3AZ"
      }
    },
    {
      "cell_type": "code",
      "source": [
        "train_sex_col = pd.get_dummies(train_df['Sex'], prefix='Sex', prefix_sep='_', drop_first=True)\n",
        "test_sex_col = pd.get_dummies(test_df['Sex'], prefix='Sex', prefix_sep='_', drop_first=True)"
      ],
      "metadata": {
        "execution": {
          "iopub.status.busy": "2023-06-12T08:29:59.760438Z",
          "iopub.execute_input": "2023-06-12T08:29:59.760794Z",
          "iopub.status.idle": "2023-06-12T08:29:59.790520Z",
          "shell.execute_reply.started": "2023-06-12T08:29:59.760764Z",
          "shell.execute_reply": "2023-06-12T08:29:59.789411Z"
        },
        "trusted": true,
        "id": "PIoc-HIcw3Ab"
      },
      "execution_count": 88,
      "outputs": []
    },
    {
      "cell_type": "code",
      "source": [
        "train_sex_col.head()"
      ],
      "metadata": {
        "execution": {
          "iopub.status.busy": "2023-06-12T08:29:59.791991Z",
          "iopub.execute_input": "2023-06-12T08:29:59.792391Z",
          "iopub.status.idle": "2023-06-12T08:29:59.803763Z",
          "shell.execute_reply.started": "2023-06-12T08:29:59.792357Z",
          "shell.execute_reply": "2023-06-12T08:29:59.802492Z"
        },
        "trusted": true,
        "colab": {
          "base_uri": "https://localhost:8080/",
          "height": 206
        },
        "id": "CLkXs-Lqw3Ac",
        "outputId": "99185041-047b-481d-f310-4b5a47a642d3"
      },
      "execution_count": 89,
      "outputs": [
        {
          "output_type": "execute_result",
          "data": {
            "text/plain": [
              "   Sex_I  Sex_M\n",
              "0      1      0\n",
              "1      1      0\n",
              "2      0      1\n",
              "3      0      0\n",
              "4      1      0"
            ],
            "text/html": [
              "\n",
              "  <div id=\"df-6f0a9fab-343e-4877-af1a-5923c60f153e\">\n",
              "    <div class=\"colab-df-container\">\n",
              "      <div>\n",
              "<style scoped>\n",
              "    .dataframe tbody tr th:only-of-type {\n",
              "        vertical-align: middle;\n",
              "    }\n",
              "\n",
              "    .dataframe tbody tr th {\n",
              "        vertical-align: top;\n",
              "    }\n",
              "\n",
              "    .dataframe thead th {\n",
              "        text-align: right;\n",
              "    }\n",
              "</style>\n",
              "<table border=\"1\" class=\"dataframe\">\n",
              "  <thead>\n",
              "    <tr style=\"text-align: right;\">\n",
              "      <th></th>\n",
              "      <th>Sex_I</th>\n",
              "      <th>Sex_M</th>\n",
              "    </tr>\n",
              "  </thead>\n",
              "  <tbody>\n",
              "    <tr>\n",
              "      <th>0</th>\n",
              "      <td>1</td>\n",
              "      <td>0</td>\n",
              "    </tr>\n",
              "    <tr>\n",
              "      <th>1</th>\n",
              "      <td>1</td>\n",
              "      <td>0</td>\n",
              "    </tr>\n",
              "    <tr>\n",
              "      <th>2</th>\n",
              "      <td>0</td>\n",
              "      <td>1</td>\n",
              "    </tr>\n",
              "    <tr>\n",
              "      <th>3</th>\n",
              "      <td>0</td>\n",
              "      <td>0</td>\n",
              "    </tr>\n",
              "    <tr>\n",
              "      <th>4</th>\n",
              "      <td>1</td>\n",
              "      <td>0</td>\n",
              "    </tr>\n",
              "  </tbody>\n",
              "</table>\n",
              "</div>\n",
              "      <button class=\"colab-df-convert\" onclick=\"convertToInteractive('df-6f0a9fab-343e-4877-af1a-5923c60f153e')\"\n",
              "              title=\"Convert this dataframe to an interactive table.\"\n",
              "              style=\"display:none;\">\n",
              "        \n",
              "  <svg xmlns=\"http://www.w3.org/2000/svg\" height=\"24px\"viewBox=\"0 0 24 24\"\n",
              "       width=\"24px\">\n",
              "    <path d=\"M0 0h24v24H0V0z\" fill=\"none\"/>\n",
              "    <path d=\"M18.56 5.44l.94 2.06.94-2.06 2.06-.94-2.06-.94-.94-2.06-.94 2.06-2.06.94zm-11 1L8.5 8.5l.94-2.06 2.06-.94-2.06-.94L8.5 2.5l-.94 2.06-2.06.94zm10 10l.94 2.06.94-2.06 2.06-.94-2.06-.94-.94-2.06-.94 2.06-2.06.94z\"/><path d=\"M17.41 7.96l-1.37-1.37c-.4-.4-.92-.59-1.43-.59-.52 0-1.04.2-1.43.59L10.3 9.45l-7.72 7.72c-.78.78-.78 2.05 0 2.83L4 21.41c.39.39.9.59 1.41.59.51 0 1.02-.2 1.41-.59l7.78-7.78 2.81-2.81c.8-.78.8-2.07 0-2.86zM5.41 20L4 18.59l7.72-7.72 1.47 1.35L5.41 20z\"/>\n",
              "  </svg>\n",
              "      </button>\n",
              "      \n",
              "  <style>\n",
              "    .colab-df-container {\n",
              "      display:flex;\n",
              "      flex-wrap:wrap;\n",
              "      gap: 12px;\n",
              "    }\n",
              "\n",
              "    .colab-df-convert {\n",
              "      background-color: #E8F0FE;\n",
              "      border: none;\n",
              "      border-radius: 50%;\n",
              "      cursor: pointer;\n",
              "      display: none;\n",
              "      fill: #1967D2;\n",
              "      height: 32px;\n",
              "      padding: 0 0 0 0;\n",
              "      width: 32px;\n",
              "    }\n",
              "\n",
              "    .colab-df-convert:hover {\n",
              "      background-color: #E2EBFA;\n",
              "      box-shadow: 0px 1px 2px rgba(60, 64, 67, 0.3), 0px 1px 3px 1px rgba(60, 64, 67, 0.15);\n",
              "      fill: #174EA6;\n",
              "    }\n",
              "\n",
              "    [theme=dark] .colab-df-convert {\n",
              "      background-color: #3B4455;\n",
              "      fill: #D2E3FC;\n",
              "    }\n",
              "\n",
              "    [theme=dark] .colab-df-convert:hover {\n",
              "      background-color: #434B5C;\n",
              "      box-shadow: 0px 1px 3px 1px rgba(0, 0, 0, 0.15);\n",
              "      filter: drop-shadow(0px 1px 2px rgba(0, 0, 0, 0.3));\n",
              "      fill: #FFFFFF;\n",
              "    }\n",
              "  </style>\n",
              "\n",
              "      <script>\n",
              "        const buttonEl =\n",
              "          document.querySelector('#df-6f0a9fab-343e-4877-af1a-5923c60f153e button.colab-df-convert');\n",
              "        buttonEl.style.display =\n",
              "          google.colab.kernel.accessAllowed ? 'block' : 'none';\n",
              "\n",
              "        async function convertToInteractive(key) {\n",
              "          const element = document.querySelector('#df-6f0a9fab-343e-4877-af1a-5923c60f153e');\n",
              "          const dataTable =\n",
              "            await google.colab.kernel.invokeFunction('convertToInteractive',\n",
              "                                                     [key], {});\n",
              "          if (!dataTable) return;\n",
              "\n",
              "          const docLinkHtml = 'Like what you see? Visit the ' +\n",
              "            '<a target=\"_blank\" href=https://colab.research.google.com/notebooks/data_table.ipynb>data table notebook</a>'\n",
              "            + ' to learn more about interactive tables.';\n",
              "          element.innerHTML = '';\n",
              "          dataTable['output_type'] = 'display_data';\n",
              "          await google.colab.output.renderOutput(dataTable, element);\n",
              "          const docLink = document.createElement('div');\n",
              "          docLink.innerHTML = docLinkHtml;\n",
              "          element.appendChild(docLink);\n",
              "        }\n",
              "      </script>\n",
              "    </div>\n",
              "  </div>\n",
              "  "
            ]
          },
          "metadata": {},
          "execution_count": 89
        }
      ]
    },
    {
      "cell_type": "code",
      "source": [
        "train_df=pd.concat([train_df,train_sex_col],axis=1)\n",
        "test_df=pd.concat([test_df,test_sex_col],axis=1)\n",
        "\n",
        "    "
      ],
      "metadata": {
        "execution": {
          "iopub.status.busy": "2023-06-12T08:29:59.805370Z",
          "iopub.execute_input": "2023-06-12T08:29:59.805810Z",
          "iopub.status.idle": "2023-06-12T08:29:59.825637Z",
          "shell.execute_reply.started": "2023-06-12T08:29:59.805774Z",
          "shell.execute_reply": "2023-06-12T08:29:59.824554Z"
        },
        "trusted": true,
        "id": "NgvYF235w3Ad"
      },
      "execution_count": 90,
      "outputs": []
    },
    {
      "cell_type": "code",
      "source": [
        "train_df.drop(['id','Sex'],axis=1, inplace=True)\n",
        "test_df.drop(['id','Sex'],axis=1, inplace=True)\n"
      ],
      "metadata": {
        "execution": {
          "iopub.status.busy": "2023-06-12T08:29:59.827470Z",
          "iopub.execute_input": "2023-06-12T08:29:59.828250Z",
          "iopub.status.idle": "2023-06-12T08:29:59.839565Z",
          "shell.execute_reply.started": "2023-06-12T08:29:59.828210Z",
          "shell.execute_reply": "2023-06-12T08:29:59.838764Z"
        },
        "trusted": true,
        "id": "-HlOn7bow3Ad"
      },
      "execution_count": 91,
      "outputs": []
    },
    {
      "cell_type": "code",
      "source": [
        "train_df.head()"
      ],
      "metadata": {
        "execution": {
          "iopub.status.busy": "2023-06-12T08:29:59.844428Z",
          "iopub.execute_input": "2023-06-12T08:29:59.845160Z",
          "iopub.status.idle": "2023-06-12T08:29:59.862397Z",
          "shell.execute_reply.started": "2023-06-12T08:29:59.845118Z",
          "shell.execute_reply": "2023-06-12T08:29:59.861274Z"
        },
        "trusted": true,
        "colab": {
          "base_uri": "https://localhost:8080/",
          "height": 206
        },
        "id": "t56SxOeuw3Ae",
        "outputId": "78d8ba31-4ecd-4af1-d6f2-eb0c2996e59a"
      },
      "execution_count": 92,
      "outputs": [
        {
          "output_type": "execute_result",
          "data": {
            "text/plain": [
              "   Length  Diameter  Height     Weight  Shucked Weight  Viscera Weight  \\\n",
              "0  1.5250    1.1750  0.3750  28.973189       12.728926        6.647958   \n",
              "1  1.1000    0.8250  0.2750  10.418441        4.521745        2.324659   \n",
              "2  1.3875    1.1125  0.3750  24.777463       11.339800        5.556502   \n",
              "3  1.7000    1.4125  0.5000  50.660556       20.354941       10.991839   \n",
              "4  1.2500    1.0125  0.3375  23.289114       11.977664        4.507570   \n",
              "\n",
              "   Shell Weight  Age  Sex_I  Sex_M  \n",
              "0      8.348928    9      1      0  \n",
              "1      3.401940    8      1      0  \n",
              "2      6.662133    9      0      1  \n",
              "3     14.996885   11      0      0  \n",
              "4      5.953395    8      1      0  "
            ],
            "text/html": [
              "\n",
              "  <div id=\"df-4d8b943f-3476-4438-a202-cd9ec6488aef\">\n",
              "    <div class=\"colab-df-container\">\n",
              "      <div>\n",
              "<style scoped>\n",
              "    .dataframe tbody tr th:only-of-type {\n",
              "        vertical-align: middle;\n",
              "    }\n",
              "\n",
              "    .dataframe tbody tr th {\n",
              "        vertical-align: top;\n",
              "    }\n",
              "\n",
              "    .dataframe thead th {\n",
              "        text-align: right;\n",
              "    }\n",
              "</style>\n",
              "<table border=\"1\" class=\"dataframe\">\n",
              "  <thead>\n",
              "    <tr style=\"text-align: right;\">\n",
              "      <th></th>\n",
              "      <th>Length</th>\n",
              "      <th>Diameter</th>\n",
              "      <th>Height</th>\n",
              "      <th>Weight</th>\n",
              "      <th>Shucked Weight</th>\n",
              "      <th>Viscera Weight</th>\n",
              "      <th>Shell Weight</th>\n",
              "      <th>Age</th>\n",
              "      <th>Sex_I</th>\n",
              "      <th>Sex_M</th>\n",
              "    </tr>\n",
              "  </thead>\n",
              "  <tbody>\n",
              "    <tr>\n",
              "      <th>0</th>\n",
              "      <td>1.5250</td>\n",
              "      <td>1.1750</td>\n",
              "      <td>0.3750</td>\n",
              "      <td>28.973189</td>\n",
              "      <td>12.728926</td>\n",
              "      <td>6.647958</td>\n",
              "      <td>8.348928</td>\n",
              "      <td>9</td>\n",
              "      <td>1</td>\n",
              "      <td>0</td>\n",
              "    </tr>\n",
              "    <tr>\n",
              "      <th>1</th>\n",
              "      <td>1.1000</td>\n",
              "      <td>0.8250</td>\n",
              "      <td>0.2750</td>\n",
              "      <td>10.418441</td>\n",
              "      <td>4.521745</td>\n",
              "      <td>2.324659</td>\n",
              "      <td>3.401940</td>\n",
              "      <td>8</td>\n",
              "      <td>1</td>\n",
              "      <td>0</td>\n",
              "    </tr>\n",
              "    <tr>\n",
              "      <th>2</th>\n",
              "      <td>1.3875</td>\n",
              "      <td>1.1125</td>\n",
              "      <td>0.3750</td>\n",
              "      <td>24.777463</td>\n",
              "      <td>11.339800</td>\n",
              "      <td>5.556502</td>\n",
              "      <td>6.662133</td>\n",
              "      <td>9</td>\n",
              "      <td>0</td>\n",
              "      <td>1</td>\n",
              "    </tr>\n",
              "    <tr>\n",
              "      <th>3</th>\n",
              "      <td>1.7000</td>\n",
              "      <td>1.4125</td>\n",
              "      <td>0.5000</td>\n",
              "      <td>50.660556</td>\n",
              "      <td>20.354941</td>\n",
              "      <td>10.991839</td>\n",
              "      <td>14.996885</td>\n",
              "      <td>11</td>\n",
              "      <td>0</td>\n",
              "      <td>0</td>\n",
              "    </tr>\n",
              "    <tr>\n",
              "      <th>4</th>\n",
              "      <td>1.2500</td>\n",
              "      <td>1.0125</td>\n",
              "      <td>0.3375</td>\n",
              "      <td>23.289114</td>\n",
              "      <td>11.977664</td>\n",
              "      <td>4.507570</td>\n",
              "      <td>5.953395</td>\n",
              "      <td>8</td>\n",
              "      <td>1</td>\n",
              "      <td>0</td>\n",
              "    </tr>\n",
              "  </tbody>\n",
              "</table>\n",
              "</div>\n",
              "      <button class=\"colab-df-convert\" onclick=\"convertToInteractive('df-4d8b943f-3476-4438-a202-cd9ec6488aef')\"\n",
              "              title=\"Convert this dataframe to an interactive table.\"\n",
              "              style=\"display:none;\">\n",
              "        \n",
              "  <svg xmlns=\"http://www.w3.org/2000/svg\" height=\"24px\"viewBox=\"0 0 24 24\"\n",
              "       width=\"24px\">\n",
              "    <path d=\"M0 0h24v24H0V0z\" fill=\"none\"/>\n",
              "    <path d=\"M18.56 5.44l.94 2.06.94-2.06 2.06-.94-2.06-.94-.94-2.06-.94 2.06-2.06.94zm-11 1L8.5 8.5l.94-2.06 2.06-.94-2.06-.94L8.5 2.5l-.94 2.06-2.06.94zm10 10l.94 2.06.94-2.06 2.06-.94-2.06-.94-.94-2.06-.94 2.06-2.06.94z\"/><path d=\"M17.41 7.96l-1.37-1.37c-.4-.4-.92-.59-1.43-.59-.52 0-1.04.2-1.43.59L10.3 9.45l-7.72 7.72c-.78.78-.78 2.05 0 2.83L4 21.41c.39.39.9.59 1.41.59.51 0 1.02-.2 1.41-.59l7.78-7.78 2.81-2.81c.8-.78.8-2.07 0-2.86zM5.41 20L4 18.59l7.72-7.72 1.47 1.35L5.41 20z\"/>\n",
              "  </svg>\n",
              "      </button>\n",
              "      \n",
              "  <style>\n",
              "    .colab-df-container {\n",
              "      display:flex;\n",
              "      flex-wrap:wrap;\n",
              "      gap: 12px;\n",
              "    }\n",
              "\n",
              "    .colab-df-convert {\n",
              "      background-color: #E8F0FE;\n",
              "      border: none;\n",
              "      border-radius: 50%;\n",
              "      cursor: pointer;\n",
              "      display: none;\n",
              "      fill: #1967D2;\n",
              "      height: 32px;\n",
              "      padding: 0 0 0 0;\n",
              "      width: 32px;\n",
              "    }\n",
              "\n",
              "    .colab-df-convert:hover {\n",
              "      background-color: #E2EBFA;\n",
              "      box-shadow: 0px 1px 2px rgba(60, 64, 67, 0.3), 0px 1px 3px 1px rgba(60, 64, 67, 0.15);\n",
              "      fill: #174EA6;\n",
              "    }\n",
              "\n",
              "    [theme=dark] .colab-df-convert {\n",
              "      background-color: #3B4455;\n",
              "      fill: #D2E3FC;\n",
              "    }\n",
              "\n",
              "    [theme=dark] .colab-df-convert:hover {\n",
              "      background-color: #434B5C;\n",
              "      box-shadow: 0px 1px 3px 1px rgba(0, 0, 0, 0.15);\n",
              "      filter: drop-shadow(0px 1px 2px rgba(0, 0, 0, 0.3));\n",
              "      fill: #FFFFFF;\n",
              "    }\n",
              "  </style>\n",
              "\n",
              "      <script>\n",
              "        const buttonEl =\n",
              "          document.querySelector('#df-4d8b943f-3476-4438-a202-cd9ec6488aef button.colab-df-convert');\n",
              "        buttonEl.style.display =\n",
              "          google.colab.kernel.accessAllowed ? 'block' : 'none';\n",
              "\n",
              "        async function convertToInteractive(key) {\n",
              "          const element = document.querySelector('#df-4d8b943f-3476-4438-a202-cd9ec6488aef');\n",
              "          const dataTable =\n",
              "            await google.colab.kernel.invokeFunction('convertToInteractive',\n",
              "                                                     [key], {});\n",
              "          if (!dataTable) return;\n",
              "\n",
              "          const docLinkHtml = 'Like what you see? Visit the ' +\n",
              "            '<a target=\"_blank\" href=https://colab.research.google.com/notebooks/data_table.ipynb>data table notebook</a>'\n",
              "            + ' to learn more about interactive tables.';\n",
              "          element.innerHTML = '';\n",
              "          dataTable['output_type'] = 'display_data';\n",
              "          await google.colab.output.renderOutput(dataTable, element);\n",
              "          const docLink = document.createElement('div');\n",
              "          docLink.innerHTML = docLinkHtml;\n",
              "          element.appendChild(docLink);\n",
              "        }\n",
              "      </script>\n",
              "    </div>\n",
              "  </div>\n",
              "  "
            ]
          },
          "metadata": {},
          "execution_count": 92
        }
      ]
    },
    {
      "cell_type": "code",
      "source": [
        "train_df.columns"
      ],
      "metadata": {
        "execution": {
          "iopub.status.busy": "2023-06-12T08:29:59.864584Z",
          "iopub.execute_input": "2023-06-12T08:29:59.865054Z",
          "iopub.status.idle": "2023-06-12T08:29:59.873283Z",
          "shell.execute_reply.started": "2023-06-12T08:29:59.865014Z",
          "shell.execute_reply": "2023-06-12T08:29:59.872147Z"
        },
        "trusted": true,
        "colab": {
          "base_uri": "https://localhost:8080/"
        },
        "id": "CGA48EChw3Ae",
        "outputId": "3ccfb0e6-bab0-48f4-8071-c066d213ac2e"
      },
      "execution_count": 93,
      "outputs": [
        {
          "output_type": "execute_result",
          "data": {
            "text/plain": [
              "Index(['Length', 'Diameter', 'Height', 'Weight', 'Shucked Weight',\n",
              "       'Viscera Weight', 'Shell Weight', 'Age', 'Sex_I', 'Sex_M'],\n",
              "      dtype='object')"
            ]
          },
          "metadata": {},
          "execution_count": 93
        }
      ]
    },
    {
      "cell_type": "markdown",
      "source": [
        "# Feature Enginnering"
      ],
      "metadata": {
        "id": "cwk1ui0qPekN"
      }
    },
    {
      "cell_type": "code",
      "source": [
        "def generate_features(data):\n",
        "  df_ = data.copy()\n",
        "  df_['Shell Weight'] = np.where(df_['Shell Weight'] > df_['Weight'],df_['Weight'],df_['Shell Weight'])\n",
        "  df_['Viscera Weight'] = np.where(df_['Viscera Weight'] > df_['Weight'],df_['Weight'],df_['Viscera Weight'])\n",
        "  df_['Shucked Weight'] = np.where(df_['Shucked Weight'] > df_['Weight'],df_['Weight'],df_['Shucked Weight'])\n",
        "\n",
        "  return df_\n",
        "new_train = generate_features(train_df)\n",
        "new_test = generate_features(test_df)"
      ],
      "metadata": {
        "id": "1IYUzL3qPia6"
      },
      "execution_count": 95,
      "outputs": []
    },
    {
      "cell_type": "markdown",
      "source": [
        "# Modeling"
      ],
      "metadata": {
        "id": "EWBS19dTw3Ag"
      }
    },
    {
      "cell_type": "code",
      "source": [
        "from sklearn.model_selection import train_test_split\n",
        "from sklearn.metrics import mean_absolute_error\n",
        "import xgboost as xgb\n",
        "from sklearn.svm import SVR"
      ],
      "metadata": {
        "execution": {
          "iopub.status.busy": "2023-06-12T08:30:00.416586Z",
          "iopub.execute_input": "2023-06-12T08:30:00.417366Z",
          "iopub.status.idle": "2023-06-12T08:30:00.662979Z",
          "shell.execute_reply.started": "2023-06-12T08:30:00.417306Z",
          "shell.execute_reply": "2023-06-12T08:30:00.661853Z"
        },
        "trusted": true,
        "id": "b3odxYQaw3Ag"
      },
      "execution_count": 106,
      "outputs": []
    },
    {
      "cell_type": "code",
      "source": [
        "X=new_train.drop('Age', axis=1)\n",
        "y=new_train['Age']"
      ],
      "metadata": {
        "execution": {
          "iopub.status.busy": "2023-06-12T08:30:00.664293Z",
          "iopub.execute_input": "2023-06-12T08:30:00.664652Z",
          "iopub.status.idle": "2023-06-12T08:30:00.673006Z",
          "shell.execute_reply.started": "2023-06-12T08:30:00.664622Z",
          "shell.execute_reply": "2023-06-12T08:30:00.671906Z"
        },
        "trusted": true,
        "id": "Adhnsk8ew3Ag"
      },
      "execution_count": 100,
      "outputs": []
    },
    {
      "cell_type": "code",
      "source": [
        "X_train,X_test,y_train,y_test=train_test_split(X,y,train_size=0.8,random_state=42)"
      ],
      "metadata": {
        "execution": {
          "iopub.status.busy": "2023-06-12T08:30:00.674380Z",
          "iopub.execute_input": "2023-06-12T08:30:00.674785Z",
          "iopub.status.idle": "2023-06-12T08:30:00.697772Z",
          "shell.execute_reply.started": "2023-06-12T08:30:00.674741Z",
          "shell.execute_reply": "2023-06-12T08:30:00.696528Z"
        },
        "trusted": true,
        "id": "AKAYy6GJw3Ag"
      },
      "execution_count": 101,
      "outputs": []
    },
    {
      "cell_type": "code",
      "source": [
        "print(X_train.shape)\n",
        "print(y_train.shape)\n",
        "print(X_test.shape)\n",
        "print(y_test.shape)"
      ],
      "metadata": {
        "execution": {
          "iopub.status.busy": "2023-06-12T08:30:00.718922Z",
          "iopub.execute_input": "2023-06-12T08:30:00.719263Z",
          "iopub.status.idle": "2023-06-12T08:30:00.734106Z",
          "shell.execute_reply.started": "2023-06-12T08:30:00.719234Z",
          "shell.execute_reply": "2023-06-12T08:30:00.732910Z"
        },
        "trusted": true,
        "colab": {
          "base_uri": "https://localhost:8080/"
        },
        "id": "_IyJLzgnw3Ah",
        "outputId": "eb6dc949-c109-4083-8a47-fefdd7d847be"
      },
      "execution_count": 102,
      "outputs": [
        {
          "output_type": "stream",
          "name": "stdout",
          "text": [
            "(59240, 9)\n",
            "(59240,)\n",
            "(14811, 9)\n",
            "(14811,)\n"
          ]
        }
      ]
    },
    {
      "cell_type": "code",
      "source": [
        "from sklearn.preprocessing import StandardScaler\n",
        "from keras.models import Sequential\n",
        "from keras.layers import Dense\n",
        "from keras.optimizers import Adam\n",
        "from sklearn.metrics import mean_absolute_error\n",
        "from keras.callbacks import EarlyStopping\n",
        "\n",
        "\n",
        "\n",
        "# Define the deep learning model\n",
        "model = Sequential()\n",
        "model.add(Dense(64, activation='relu', input_shape=(X_train.shape[1],)))\n",
        "model.add(Dense(64, activation='relu'))\n",
        "model.add(Dense(1))\n",
        "\n",
        "# Compile the model\n",
        "model.compile(optimizer=Adam(), loss='mean_squared_error')\n",
        "early_stopping = EarlyStopping(monitor='val_loss', patience=10, mode='min', restore_best_weights=True)\n",
        "model.fit(X_train, y_train, batch_size=32, epochs=100, verbose=1, validation_data=(X_test, y_test), callbacks=[early_stopping])\n",
        "\n",
        "\n",
        "# Make predictions on the test set\n",
        "y_pred = model.predict(X_test)\n",
        "\n",
        "# Evaluate the model\n",
        "mae = mean_absolute_error(y_test, y_pred)\n",
        "print(\"Mean absolute Error:\", mae)"
      ],
      "metadata": {
        "colab": {
          "base_uri": "https://localhost:8080/"
        },
        "id": "K-j_e12VS3BR",
        "outputId": "7113118a-23e3-43ed-d87b-7f4936167c20"
      },
      "execution_count": 112,
      "outputs": [
        {
          "output_type": "stream",
          "name": "stdout",
          "text": [
            "Epoch 1/100\n",
            "1852/1852 [==============================] - 4s 2ms/step - loss: 5.7314 - val_loss: 5.8017\n",
            "Epoch 2/100\n",
            "1852/1852 [==============================] - 4s 2ms/step - loss: 4.5772 - val_loss: 4.3664\n",
            "Epoch 3/100\n",
            "1852/1852 [==============================] - 5s 3ms/step - loss: 4.5138 - val_loss: 4.7141\n",
            "Epoch 4/100\n",
            "1852/1852 [==============================] - 4s 2ms/step - loss: 4.4656 - val_loss: 4.3581\n",
            "Epoch 5/100\n",
            "1852/1852 [==============================] - 4s 2ms/step - loss: 4.4359 - val_loss: 4.3644\n",
            "Epoch 6/100\n",
            "1852/1852 [==============================] - 4s 2ms/step - loss: 4.4239 - val_loss: 4.4136\n",
            "Epoch 7/100\n",
            "1852/1852 [==============================] - 4s 2ms/step - loss: 4.4098 - val_loss: 4.7177\n",
            "Epoch 8/100\n",
            "1852/1852 [==============================] - 4s 2ms/step - loss: 4.4019 - val_loss: 4.3245\n",
            "Epoch 9/100\n",
            "1852/1852 [==============================] - 4s 2ms/step - loss: 4.4035 - val_loss: 4.3245\n",
            "Epoch 10/100\n",
            "1852/1852 [==============================] - 5s 3ms/step - loss: 4.3752 - val_loss: 4.3239\n",
            "Epoch 11/100\n",
            "1852/1852 [==============================] - 4s 2ms/step - loss: 4.3602 - val_loss: 4.6112\n",
            "Epoch 12/100\n",
            "1852/1852 [==============================] - 4s 2ms/step - loss: 4.3643 - val_loss: 4.3522\n",
            "Epoch 13/100\n",
            "1852/1852 [==============================] - 6s 3ms/step - loss: 4.3603 - val_loss: 4.3358\n",
            "Epoch 14/100\n",
            "1852/1852 [==============================] - 4s 2ms/step - loss: 4.3494 - val_loss: 4.2793\n",
            "Epoch 15/100\n",
            "1852/1852 [==============================] - 4s 2ms/step - loss: 4.3472 - val_loss: 4.6341\n",
            "Epoch 16/100\n",
            "1852/1852 [==============================] - 4s 2ms/step - loss: 4.3325 - val_loss: 4.2731\n",
            "Epoch 17/100\n",
            "1852/1852 [==============================] - 5s 3ms/step - loss: 4.3312 - val_loss: 4.3940\n",
            "Epoch 18/100\n",
            "1852/1852 [==============================] - 4s 2ms/step - loss: 4.3381 - val_loss: 4.2737\n",
            "Epoch 19/100\n",
            "1852/1852 [==============================] - 4s 2ms/step - loss: 4.3283 - val_loss: 4.4951\n",
            "Epoch 20/100\n",
            "1852/1852 [==============================] - 5s 3ms/step - loss: 4.3213 - val_loss: 4.3109\n",
            "Epoch 21/100\n",
            "1852/1852 [==============================] - 4s 2ms/step - loss: 4.3161 - val_loss: 4.3275\n",
            "Epoch 22/100\n",
            "1852/1852 [==============================] - 4s 2ms/step - loss: 4.3249 - val_loss: 4.4211\n",
            "Epoch 23/100\n",
            "1852/1852 [==============================] - 4s 2ms/step - loss: 4.3088 - val_loss: 4.2476\n",
            "Epoch 24/100\n",
            "1852/1852 [==============================] - 5s 3ms/step - loss: 4.3049 - val_loss: 4.3489\n",
            "Epoch 25/100\n",
            "1852/1852 [==============================] - 4s 2ms/step - loss: 4.3053 - val_loss: 4.2653\n",
            "Epoch 26/100\n",
            "1852/1852 [==============================] - 4s 2ms/step - loss: 4.3043 - val_loss: 4.2617\n",
            "Epoch 27/100\n",
            "1852/1852 [==============================] - 5s 2ms/step - loss: 4.2966 - val_loss: 4.2812\n",
            "Epoch 28/100\n",
            "1852/1852 [==============================] - 4s 2ms/step - loss: 4.2909 - val_loss: 4.2539\n",
            "Epoch 29/100\n",
            "1852/1852 [==============================] - 4s 2ms/step - loss: 4.3080 - val_loss: 4.2604\n",
            "Epoch 30/100\n",
            "1852/1852 [==============================] - 4s 2ms/step - loss: 4.3007 - val_loss: 4.2717\n",
            "Epoch 31/100\n",
            "1852/1852 [==============================] - 5s 3ms/step - loss: 4.2981 - val_loss: 4.4040\n",
            "Epoch 32/100\n",
            "1852/1852 [==============================] - 4s 2ms/step - loss: 4.2926 - val_loss: 4.3657\n",
            "Epoch 33/100\n",
            "1852/1852 [==============================] - 4s 2ms/step - loss: 4.2922 - val_loss: 4.2628\n",
            "463/463 [==============================] - 1s 1ms/step\n",
            "Mean absolute Error: 1.4176807098840687\n"
          ]
        }
      ]
    },
    {
      "cell_type": "markdown",
      "source": [
        "# Prediction\n",
        "\n",
        "**Based on the above result svr yeilds the better results**"
      ],
      "metadata": {
        "id": "AQnYiCWcRZpU"
      }
    },
    {
      "cell_type": "code",
      "source": [
        "\n",
        "# Make predictions on the scaled test data using the best model\n",
        "y_test_pred = model.predict(test_df)\n",
        "\n",
        "# Print the predicted values\n",
        "print(\"Predicted Age for Test Data:\")\n",
        "print(y_test_pred)"
      ],
      "metadata": {
        "colab": {
          "base_uri": "https://localhost:8080/"
        },
        "id": "keUeudny5ey3",
        "outputId": "90b455be-5581-4439-f2e9-1a817ef8cf00"
      },
      "execution_count": 113,
      "outputs": [
        {
          "output_type": "stream",
          "name": "stdout",
          "text": [
            "1543/1543 [==============================] - 2s 1ms/step\n",
            "Predicted Age for Test Data:\n",
            "[[ 7.4146104]\n",
            " [ 7.910332 ]\n",
            " [10.790245 ]\n",
            " ...\n",
            " [12.785315 ]\n",
            " [10.502437 ]\n",
            " [12.357481 ]]\n"
          ]
        }
      ]
    },
    {
      "cell_type": "code",
      "source": [
        "test=pd.read_csv('/content/drive/MyDrive/Colab Notebooks/kaggle/test.csv')"
      ],
      "metadata": {
        "id": "6mwiiVAp6mVa"
      },
      "execution_count": 114,
      "outputs": []
    },
    {
      "cell_type": "code",
      "source": [
        "y_test_pred = np.squeeze(y_test_pred)\n",
        "\n",
        "submission_df = pd.DataFrame({'id': test['id'], 'Age': y_test_pred})\n",
        "submission_df.to_csv('submission.csv', index=False)"
      ],
      "metadata": {
        "id": "0gSbxZeBZrPt"
      },
      "execution_count": 117,
      "outputs": []
    },
    {
      "cell_type": "code",
      "source": [
        "submission_df"
      ],
      "metadata": {
        "colab": {
          "base_uri": "https://localhost:8080/",
          "height": 424
        },
        "id": "WELn34KFaUhy",
        "outputId": "938bf973-1a7a-4f54-e01f-7f33f63e5976"
      },
      "execution_count": 118,
      "outputs": [
        {
          "output_type": "execute_result",
          "data": {
            "text/plain": [
              "           id        Age\n",
              "0       74051   7.414610\n",
              "1       74052   7.910332\n",
              "2       74053  10.790245\n",
              "3       74054   9.451137\n",
              "4       74055   7.565471\n",
              "...       ...        ...\n",
              "49363  123414   9.537012\n",
              "49364  123415   7.928013\n",
              "49365  123416  12.785315\n",
              "49366  123417  10.502437\n",
              "49367  123418  12.357481\n",
              "\n",
              "[49368 rows x 2 columns]"
            ],
            "text/html": [
              "\n",
              "  <div id=\"df-4ae72067-4d0f-487e-b4ce-17ff9ae6bbfc\">\n",
              "    <div class=\"colab-df-container\">\n",
              "      <div>\n",
              "<style scoped>\n",
              "    .dataframe tbody tr th:only-of-type {\n",
              "        vertical-align: middle;\n",
              "    }\n",
              "\n",
              "    .dataframe tbody tr th {\n",
              "        vertical-align: top;\n",
              "    }\n",
              "\n",
              "    .dataframe thead th {\n",
              "        text-align: right;\n",
              "    }\n",
              "</style>\n",
              "<table border=\"1\" class=\"dataframe\">\n",
              "  <thead>\n",
              "    <tr style=\"text-align: right;\">\n",
              "      <th></th>\n",
              "      <th>id</th>\n",
              "      <th>Age</th>\n",
              "    </tr>\n",
              "  </thead>\n",
              "  <tbody>\n",
              "    <tr>\n",
              "      <th>0</th>\n",
              "      <td>74051</td>\n",
              "      <td>7.414610</td>\n",
              "    </tr>\n",
              "    <tr>\n",
              "      <th>1</th>\n",
              "      <td>74052</td>\n",
              "      <td>7.910332</td>\n",
              "    </tr>\n",
              "    <tr>\n",
              "      <th>2</th>\n",
              "      <td>74053</td>\n",
              "      <td>10.790245</td>\n",
              "    </tr>\n",
              "    <tr>\n",
              "      <th>3</th>\n",
              "      <td>74054</td>\n",
              "      <td>9.451137</td>\n",
              "    </tr>\n",
              "    <tr>\n",
              "      <th>4</th>\n",
              "      <td>74055</td>\n",
              "      <td>7.565471</td>\n",
              "    </tr>\n",
              "    <tr>\n",
              "      <th>...</th>\n",
              "      <td>...</td>\n",
              "      <td>...</td>\n",
              "    </tr>\n",
              "    <tr>\n",
              "      <th>49363</th>\n",
              "      <td>123414</td>\n",
              "      <td>9.537012</td>\n",
              "    </tr>\n",
              "    <tr>\n",
              "      <th>49364</th>\n",
              "      <td>123415</td>\n",
              "      <td>7.928013</td>\n",
              "    </tr>\n",
              "    <tr>\n",
              "      <th>49365</th>\n",
              "      <td>123416</td>\n",
              "      <td>12.785315</td>\n",
              "    </tr>\n",
              "    <tr>\n",
              "      <th>49366</th>\n",
              "      <td>123417</td>\n",
              "      <td>10.502437</td>\n",
              "    </tr>\n",
              "    <tr>\n",
              "      <th>49367</th>\n",
              "      <td>123418</td>\n",
              "      <td>12.357481</td>\n",
              "    </tr>\n",
              "  </tbody>\n",
              "</table>\n",
              "<p>49368 rows × 2 columns</p>\n",
              "</div>\n",
              "      <button class=\"colab-df-convert\" onclick=\"convertToInteractive('df-4ae72067-4d0f-487e-b4ce-17ff9ae6bbfc')\"\n",
              "              title=\"Convert this dataframe to an interactive table.\"\n",
              "              style=\"display:none;\">\n",
              "        \n",
              "  <svg xmlns=\"http://www.w3.org/2000/svg\" height=\"24px\"viewBox=\"0 0 24 24\"\n",
              "       width=\"24px\">\n",
              "    <path d=\"M0 0h24v24H0V0z\" fill=\"none\"/>\n",
              "    <path d=\"M18.56 5.44l.94 2.06.94-2.06 2.06-.94-2.06-.94-.94-2.06-.94 2.06-2.06.94zm-11 1L8.5 8.5l.94-2.06 2.06-.94-2.06-.94L8.5 2.5l-.94 2.06-2.06.94zm10 10l.94 2.06.94-2.06 2.06-.94-2.06-.94-.94-2.06-.94 2.06-2.06.94z\"/><path d=\"M17.41 7.96l-1.37-1.37c-.4-.4-.92-.59-1.43-.59-.52 0-1.04.2-1.43.59L10.3 9.45l-7.72 7.72c-.78.78-.78 2.05 0 2.83L4 21.41c.39.39.9.59 1.41.59.51 0 1.02-.2 1.41-.59l7.78-7.78 2.81-2.81c.8-.78.8-2.07 0-2.86zM5.41 20L4 18.59l7.72-7.72 1.47 1.35L5.41 20z\"/>\n",
              "  </svg>\n",
              "      </button>\n",
              "      \n",
              "  <style>\n",
              "    .colab-df-container {\n",
              "      display:flex;\n",
              "      flex-wrap:wrap;\n",
              "      gap: 12px;\n",
              "    }\n",
              "\n",
              "    .colab-df-convert {\n",
              "      background-color: #E8F0FE;\n",
              "      border: none;\n",
              "      border-radius: 50%;\n",
              "      cursor: pointer;\n",
              "      display: none;\n",
              "      fill: #1967D2;\n",
              "      height: 32px;\n",
              "      padding: 0 0 0 0;\n",
              "      width: 32px;\n",
              "    }\n",
              "\n",
              "    .colab-df-convert:hover {\n",
              "      background-color: #E2EBFA;\n",
              "      box-shadow: 0px 1px 2px rgba(60, 64, 67, 0.3), 0px 1px 3px 1px rgba(60, 64, 67, 0.15);\n",
              "      fill: #174EA6;\n",
              "    }\n",
              "\n",
              "    [theme=dark] .colab-df-convert {\n",
              "      background-color: #3B4455;\n",
              "      fill: #D2E3FC;\n",
              "    }\n",
              "\n",
              "    [theme=dark] .colab-df-convert:hover {\n",
              "      background-color: #434B5C;\n",
              "      box-shadow: 0px 1px 3px 1px rgba(0, 0, 0, 0.15);\n",
              "      filter: drop-shadow(0px 1px 2px rgba(0, 0, 0, 0.3));\n",
              "      fill: #FFFFFF;\n",
              "    }\n",
              "  </style>\n",
              "\n",
              "      <script>\n",
              "        const buttonEl =\n",
              "          document.querySelector('#df-4ae72067-4d0f-487e-b4ce-17ff9ae6bbfc button.colab-df-convert');\n",
              "        buttonEl.style.display =\n",
              "          google.colab.kernel.accessAllowed ? 'block' : 'none';\n",
              "\n",
              "        async function convertToInteractive(key) {\n",
              "          const element = document.querySelector('#df-4ae72067-4d0f-487e-b4ce-17ff9ae6bbfc');\n",
              "          const dataTable =\n",
              "            await google.colab.kernel.invokeFunction('convertToInteractive',\n",
              "                                                     [key], {});\n",
              "          if (!dataTable) return;\n",
              "\n",
              "          const docLinkHtml = 'Like what you see? Visit the ' +\n",
              "            '<a target=\"_blank\" href=https://colab.research.google.com/notebooks/data_table.ipynb>data table notebook</a>'\n",
              "            + ' to learn more about interactive tables.';\n",
              "          element.innerHTML = '';\n",
              "          dataTable['output_type'] = 'display_data';\n",
              "          await google.colab.output.renderOutput(dataTable, element);\n",
              "          const docLink = document.createElement('div');\n",
              "          docLink.innerHTML = docLinkHtml;\n",
              "          element.appendChild(docLink);\n",
              "        }\n",
              "      </script>\n",
              "    </div>\n",
              "  </div>\n",
              "  "
            ]
          },
          "metadata": {},
          "execution_count": 118
        }
      ]
    },
    {
      "cell_type": "code",
      "source": [],
      "metadata": {
        "id": "SSAEjSd4hujI"
      },
      "execution_count": null,
      "outputs": []
    }
  ]
}